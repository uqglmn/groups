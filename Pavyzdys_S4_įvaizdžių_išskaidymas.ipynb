{
 "cells": [
  {
   "cell_type": "markdown",
   "id": "2572978b",
   "metadata": {},
   "source": [
    "##  Įvaizdžių išskaidymo pavyzdys"
   ]
  },
  {
   "cell_type": "markdown",
   "id": "15608d2b",
   "metadata": {},
   "source": [
    "<a href=\"https://colab.research.google.com/github/uqglmn/groups/blob/main/Pavyzdys_S4_įvaizdžių_išskaidymas.ipynb\" target=\"_parent\"><img src=\"https://colab.research.google.com/assets/colab-badge.svg\" alt=\"Open In Colab\"/></a>"
   ]
  },
  {
   "cell_type": "markdown",
   "id": "ddc2b1af",
   "metadata": {},
   "source": [
    "Šiame pavyzdyje išskaidysime kai kurius grupės $S_4$ įvaizdžius"
   ]
  },
  {
   "cell_type": "code",
   "execution_count": 1,
   "id": "72a31a5d",
   "metadata": {},
   "outputs": [],
   "source": [
    "# Bibliotekos\n",
    "import sympy as sym\n",
    "import numpy as np\n",
    "from sympy.physics.quantum import TensorProduct\n",
    "\n",
    "# Renderinimo nustatymas\n",
    "sym.init_printing(use_unicode=True)"
   ]
  },
  {
   "cell_type": "code",
   "execution_count": 2,
   "id": "3ef03a4b",
   "metadata": {},
   "outputs": [],
   "source": [
    "# Grupės S4 eilė\n",
    "ng = 24"
   ]
  },
  {
   "cell_type": "markdown",
   "id": "c82d7013",
   "metadata": {},
   "source": [
    "### Kai kurie $S_4$ įvaizdžiai"
   ]
  },
  {
   "cell_type": "markdown",
   "id": "2a261b93",
   "metadata": {},
   "source": [
    "#### Neredukuojami įvaizdžiai"
   ]
  },
  {
   "cell_type": "code",
   "execution_count": 3,
   "id": "2d795433",
   "metadata": {},
   "outputs": [],
   "source": [
    "# Trivialus įvaizdis ir jo charakteris\n",
    "rep_triv  = [1, 1, 1, 1, 1, 1, 1, 1, 1, 1, 1, 1, 1, 1, 1, 1, 1, 1, 1, 1, 1, 1, 1, 1]\n",
    "char_triv = np.array(rep_triv)"
   ]
  },
  {
   "cell_type": "code",
   "execution_count": 4,
   "id": "154f3953",
   "metadata": {},
   "outputs": [],
   "source": [
    "# Alternuojantis įvaizdis ir jo charakteris\n",
    "rep_alt  = [1, -1, -1, 1, 1, -1, -1, 1, 1, -1, -1, 1, 1, -1, -1, 1, 1, -1, -1, 1, 1, -1, -1, 1]\n",
    "char_alt = np.array(rep_alt)"
   ]
  },
  {
   "cell_type": "code",
   "execution_count": 5,
   "id": "ca193404",
   "metadata": {},
   "outputs": [],
   "source": [
    "# Standartinis įvaizdis\n",
    "rep_st  = [\n",
    "sym.Matrix([[1, 0, 0], [0, 1, 0], [0, 0, 1]]),\n",
    "sym.Matrix([[-(sym.Rational(1,3)), -(sym.sqrt(2)/3), -sym.sqrt(sym.Rational(2,3))], [-(sym.sqrt(2)/3), sym.Rational(5,6), -(1/(2*sym.sqrt(3)))], [-sym.sqrt(sym.Rational(2,3)), -(1/(2*sym.sqrt(3))), sym.Rational(1,2)]]),\n",
    "sym.Matrix([[1, 0, 0], [0, 1, 0], [0, 0, -1]]),\n",
    "sym.Matrix([[-(sym.Rational(1,3)), -(sym.sqrt(2)/3), -sym.sqrt(sym.Rational(2,3))], [-(sym.sqrt(2)/3), sym.Rational(5,6), -(1/(2*sym.sqrt(3)))], [sym.sqrt(sym.Rational(2,3)), 1/(2*sym.sqrt(3)), -(sym.Rational(1,2))]]),\n",
    "sym.Matrix([[-(sym.Rational(1,3)), -(sym.sqrt(2)/3), sym.sqrt(sym.Rational(2,3))], [-(sym.sqrt(2)/3), sym.Rational(5,6), 1/(2*sym.sqrt(3))], [-sym.sqrt(sym.Rational(2,3)), -(1/(2*sym.sqrt(3))), -(sym.Rational(1,2))]]),\n",
    "sym.Matrix([[-(sym.Rational(1,3)), -(sym.sqrt(2)/3), sym.sqrt(sym.Rational(2,3))], [-(sym.sqrt(2)/3), sym.Rational(5,6), 1/(2*sym.sqrt(3))], [sym.sqrt(sym.Rational(2,3)), 1/(2*sym.sqrt(3)), sym.Rational(1,2)]]),\n",
    "sym.Matrix([[1, 0, 0], [0, -(sym.Rational(1,2)), sym.sqrt(3)/2], [0, sym.sqrt(3)/2, sym.Rational(1,2)]]),\n",
    "sym.Matrix([[-(sym.Rational(1,3)), -(sym.sqrt(2)/3), -sym.sqrt(sym.Rational(2,3))], [-(sym.sqrt(2)/3), -(sym.Rational(2,3)), 1/sym.sqrt(3)], [-sym.sqrt(sym.Rational(2,3)), 1/sym.sqrt(3), 0]]),\n",
    "sym.Matrix([[1, 0, 0], [0, -(sym.Rational(1,2)), -(sym.sqrt(3)/2)], [0, sym.sqrt(3)/2, -(sym.Rational(1,2))]]),\n",
    "sym.Matrix([[-(sym.Rational(1,3)), -(sym.sqrt(2)/3), -sym.sqrt(sym.Rational(2,3))], [(2*sym.sqrt(2))/3, -(sym.Rational(1,6)), -(1/(2*sym.sqrt(3)))], [0, sym.sqrt(3)/2, -(sym.Rational(1,2))]]),\n",
    "sym.Matrix([[-(sym.Rational(1,3)), -(sym.sqrt(2)/3), sym.sqrt(sym.Rational(2,3))], [-(sym.sqrt(2)/3), -(sym.Rational(2,3)), -(1/sym.sqrt(3))], [-sym.sqrt(sym.Rational(2,3)), 1/sym.sqrt(3), 0]]),\n",
    "sym.Matrix([[-(sym.Rational(1,3)), -(sym.sqrt(2)/3), sym.sqrt(sym.Rational(2,3))], [(2*sym.sqrt(2))/3, -(sym.Rational(1,6)), 1/(2*sym.sqrt(3))], [0, sym.sqrt(3)/2, sym.Rational(1,2)]]),\n",
    "sym.Matrix([[1, 0, 0], [0, -(sym.Rational(1,2)), sym.sqrt(3)/2], [0, -(sym.sqrt(3)/2), -(sym.Rational(1,2))]]),\n",
    "sym.Matrix([[-(sym.Rational(1,3)), -(sym.sqrt(2)/3), -sym.sqrt(sym.Rational(2,3))], [-(sym.sqrt(2)/3), -(sym.Rational(2,3)), 1/sym.sqrt(3)], [sym.sqrt(sym.Rational(2,3)), -(1/sym.sqrt(3)), 0]]),\n",
    "sym.Matrix([[1, 0, 0], [0, -(sym.Rational(1,2)), -(sym.sqrt(3)/2)], [0, -(sym.sqrt(3)/2), sym.Rational(1,2)]]),\n",
    "sym.Matrix([[-(sym.Rational(1,3)), -(sym.sqrt(2)/3), -sym.sqrt(sym.Rational(2,3))], [(2*sym.sqrt(2))/3, -(sym.Rational(1,6)), -(1/(2*sym.sqrt(3)))], [0, -(sym.sqrt(3)/2), sym.Rational(1,2)]]),\n",
    "sym.Matrix([[-(sym.Rational(1,3)), -(sym.sqrt(2)/3), sym.sqrt(sym.Rational(2,3))], [-(sym.sqrt(2)/3), -(sym.Rational(2,3)), -(1/sym.sqrt(3))], [sym.sqrt(sym.Rational(2,3)), -(1/sym.sqrt(3)), 0]]),\n",
    "sym.Matrix([[-(sym.Rational(1,3)), -(sym.sqrt(2)/3), sym.sqrt(sym.Rational(2,3))], [(2*sym.sqrt(2))/3, -(sym.Rational(1,6)), 1/(2*sym.sqrt(3))], [0, -(sym.sqrt(3)/2), -(sym.Rational(1,2))]]),\n",
    "sym.Matrix([[-(sym.Rational(1,3)), (2*sym.sqrt(2))/3, 0], [-(sym.sqrt(2)/3), -(sym.Rational(1,6)), sym.sqrt(3)/2], [-sym.sqrt(sym.Rational(2,3)), -(1/(2*sym.sqrt(3))), -(sym.Rational(1,2))]]),\n",
    "sym.Matrix([[-(sym.Rational(1,3)), (2*sym.sqrt(2))/3, 0], [-(sym.sqrt(2)/3), -(sym.Rational(1,6)), sym.sqrt(3)/2], [sym.sqrt(sym.Rational(2,3)), 1/(2*sym.sqrt(3)), sym.Rational(1,2)]]),\n",
    "sym.Matrix([[-(sym.Rational(1,3)), (2*sym.sqrt(2))/3, 0], [-(sym.sqrt(2)/3), -(sym.Rational(1,6)), -(sym.sqrt(3)/2)], [-sym.sqrt(sym.Rational(2,3)), -(1/( 2*sym.sqrt(3))), sym.Rational(1,2)]]),\n",
    "sym.Matrix([[-(sym.Rational(1,3)), (2*sym.sqrt(2))/3, 0], [(2*sym.sqrt(2))/3, sym.Rational(1,3), 0], [0, 0, 1]]),\n",
    "sym.Matrix([[-(sym.Rational(1,3)), (2*sym.sqrt(2))/3, 0], [-(sym.sqrt(2)/3), -(sym.Rational(1,6)), -(sym.sqrt(3)/2)], [sym.sqrt(sym.Rational(2,3)), 1/(2*sym.sqrt(3)), -(sym.Rational(1,2))]]),\n",
    "sym.Matrix([[-(sym.Rational(1,3)), (2*sym.sqrt(2))/3, 0], [(2*sym.sqrt(2))/3, sym.Rational(1,3), 0], [0, 0, -1]])\n",
    "]\n",
    "\n",
    "char_st = np.array([3, 1, 1, 0, 0, 1, 1, -1, 0, -1, -1, 0, 0, -1, 1, 0, -1, -1, -1, 0, 0, 1, -1, -1])\n",
    "\n",
    "# rep_st"
   ]
  },
  {
   "cell_type": "code",
   "execution_count": 6,
   "id": "0d1ea05f",
   "metadata": {},
   "outputs": [],
   "source": [
    "# Standartinis dualus įvaizdis\n",
    "rep_std = [\n",
    " sym.Matrix([[1, 0, 0], [0, 1, 0], [0, 0, 1]]),\n",
    " sym.Matrix([[-1, 0, 0], [0, -(sym.Rational(1,3)), -((2*sym.sqrt(2))/3)], [0, -((2*sym.sqrt(2))/3), sym.Rational(1,3)]]),\n",
    " sym.Matrix([[-(sym.Rational(1/2)), -(sym.sqrt(3)/2), 0], [-(sym.sqrt(3)/2), sym.Rational(1/2), 0], [0, 0, -1]]),\n",
    " sym.Matrix([[sym.Rational(1/2), 1/(2*sym.sqrt(3)), sym.sqrt(sym.Rational(2,3))], [sym.sqrt(3)/2, -(sym.Rational(1,6)), -(sym.sqrt(2)/3)], [0, (2*sym.sqrt(2))/3, -(sym.Rational(1,3))]]),\n",
    " sym.Matrix([[sym.Rational(1/2), sym.sqrt(3)/2, 0], [1/(2*sym.sqrt(3)), -(sym.Rational(1,6)), (2*sym.sqrt(2))/3], [sym.sqrt(sym.Rational(2,3)), -(sym.sqrt(2)/3), -(sym.Rational(1,3))]]),\n",
    " sym.Matrix([[-(sym.Rational(1/2)), -(1/(2*sym.sqrt(3))), -sym.sqrt(sym.Rational(2,3))], [-(1/(2*sym.sqrt(3))), -(sym.Rational(5,6)), sym.sqrt(2)/3], [-sym.sqrt(sym.Rational(2,3)), sym.sqrt(2)/3, sym.Rational(1,3)]]),\n",
    " sym.Matrix([[1, 0, 0], [0, -1, 0], [0, 0, -1]]),\n",
    " sym.Matrix([[-1, 0, 0], [0, sym.Rational(1,3), (2*sym.sqrt(2))/3], [0, (2*sym.sqrt(2))/3, -(sym.Rational(1,3))]]),\n",
    " sym.Matrix([[-(sym.Rational(1/2)), -(sym.sqrt(3)/2), 0], [sym.sqrt(3)/2, -(sym.Rational(1/2)), 0], [0, 0, 1]]),\n",
    " sym.Matrix([[sym.Rational(1/2), 1/(2*sym.sqrt(3)), sym.sqrt(sym.Rational(2,3))], [-(sym.sqrt(3)/2), sym.Rational(1,6), sym.sqrt(2)/3], [0, -((2*sym.sqrt(2))/3), sym.Rational(1,3)]]),\n",
    " sym.Matrix([[sym.Rational(1/2), sym.sqrt(3)/2, 0], [-(1/(2*sym.sqrt(3))), sym.Rational(1,6), -((2*sym.sqrt(2))/3)], [-sym.sqrt(sym.Rational(2,3)), sym.sqrt(2)/3, sym.Rational(1,3)]]),\n",
    " sym.Matrix([[-(sym.Rational(1/2)), -(1/(2*sym.sqrt(3))), -sym.sqrt(sym.Rational(2,3))], [1/(2*sym.sqrt(3)), sym.Rational(5,6), -(sym.sqrt(2)/3)], [sym.sqrt(sym.Rational(2,3)), -(sym.sqrt(2)/3), -(sym.Rational(1,3))]]),\n",
    " sym.Matrix([[-(sym.Rational(1/2)), sym.sqrt(3)/2, 0], [-(sym.sqrt(3)/2), -(sym.Rational(1/2)), 0], [0, 0, 1]]),\n",
    " sym.Matrix([[sym.Rational(1/2), -(1/(2*sym.sqrt(3))), -sym.sqrt(sym.Rational(2,3))], [sym.sqrt(3)/2, sym.Rational(1,6), sym.sqrt(2)/3], [0, -((2*sym.sqrt(2))/3), sym.Rational(1,3)]]),\n",
    " sym.Matrix([[-(sym.Rational(1/2)), sym.sqrt(3)/2, 0], [sym.sqrt(3)/2, sym.Rational(1/2), 0], [0, 0, -1]]),\n",
    " sym.Matrix([[sym.Rational(1/2), -(1/(2*sym.sqrt(3))), -sym.sqrt(sym.Rational(2,3))], [-(sym.sqrt(3)/2), -(sym.Rational(1,6)), -(sym.sqrt(2)/3)], [0, (2*sym.sqrt(2))/3, -(sym.Rational(1,3))]]),\n",
    " sym.Matrix([[0, -(1/sym.sqrt(3)), sym.sqrt(sym.Rational(2,3))], [-(1/sym.sqrt(3)), -(sym.Rational(2,3)), -(sym.sqrt(2)/3)], [sym.sqrt(sym.Rational(2,3)), -(sym.sqrt(2)/3), -(sym.Rational(1,3))]]),\n",
    " sym.Matrix([[0, -(1/sym.sqrt(3)), sym.sqrt(sym.Rational(2,3))], [1/sym.sqrt(3),sym.Rational(2,3), sym.sqrt(2)/3], [-sym.sqrt(sym.Rational(2,3)), sym.sqrt(2)/3, sym.Rational(1,3)]]),\n",
    " sym.Matrix([[sym.Rational(1/2), -(sym.sqrt(3)/2), 0], [1/(2*sym.sqrt(3)), sym.Rational(1,6), -((2*sym.sqrt(2))/3)], [sym.sqrt(sym.Rational(2,3)), sym.sqrt(2)/3, sym.Rational(1,3)]]),\n",
    " sym.Matrix([[-(sym.Rational(1/2)), 1/(2*sym.sqrt(3)), sym.sqrt(sym.Rational(2,3))], [-(1/(2*sym.sqrt(3))), sym.Rational(5,6), -(sym.sqrt(2)/3)], [-sym.sqrt(sym.Rational(2,3)), -(sym.sqrt(2)/3), -(sym.Rational(1,3))]]),\n",
    " sym.Matrix([[sym.Rational(1/2), -(sym.sqrt(3)/2), 0], [-(1/(2*sym.sqrt(3))), -(sym.Rational(1,6)), (2*sym.sqrt(2))/3], [-sym.sqrt(sym.Rational(2,3)), -(sym.sqrt(2)/3), -(sym.Rational(1,3))]]),\n",
    " sym.Matrix([[-(sym.Rational(1/2)), 1/(2*sym.sqrt(3)), sym.sqrt(sym.Rational(2,3))], [1/(2*sym.sqrt(3)), -(sym.Rational(5,6)), sym.sqrt(2)/3], [sym.sqrt(sym.Rational(2,3)), sym.sqrt(2)/3, sym.Rational(1,3)]]),\n",
    " sym.Matrix([[0, 1/sym.sqrt(3), -sym.sqrt(sym.Rational(2,3))], [-(1/sym.sqrt(3)), sym.Rational(2,3), sym.sqrt(2)/3], [sym.sqrt(sym.Rational(2,3)), sym.sqrt(2)/3, sym.Rational(1,3)]]),\n",
    " sym.Matrix([[0, 1/sym.sqrt(3), -sym.sqrt(sym.Rational(2,3))], [1/sym.sqrt(3), -(sym.Rational(2,3)), -(sym.sqrt(2)/3)], [-sym.sqrt(sym.Rational(2,3)), -(sym.sqrt(2)/3), -(sym.Rational(1,3))]])\n",
    "]\n",
    "\n",
    "char_std = np.array([3, -1, -1, 0, 0, -1, -1, -1, 0, 1, 1, 0, 0, 1, -1, 0, -1, 1, 1, 0, 0, -1, 1, -1])\n",
    "\n",
    "# rep_std"
   ]
  },
  {
   "cell_type": "code",
   "execution_count": 7,
   "id": "94cdb11a",
   "metadata": {},
   "outputs": [],
   "source": [
    "# Dvimatis įvaizdis\n",
    "rep_2d = [\n",
    " sym.Matrix([[1, 0], [0, 1]]),\n",
    " sym.Matrix([[1, 0], [0, -1]]),\n",
    " sym.Matrix([[-(sym.Rational(1/2)), -(sym.sqrt(3)/2)], [-(sym.sqrt(3)/2), sym.Rational(1/2)]]),\n",
    " sym.Matrix([[-(sym.Rational(1/2)), sym.sqrt(3)/2], [-(sym.sqrt(3)/2), -(sym.Rational(1/2))]]),\n",
    " sym.Matrix([[-(sym.Rational(1/2)), -(sym.sqrt(3)/2)], [sym.sqrt(3)/2, -(sym.Rational(1/2))]]),\n",
    " sym.Matrix([[-(sym.Rational(1/2)), sym.sqrt(3)/2], [sym.sqrt(3)/2, sym.Rational(1/2)]]),\n",
    " sym.Matrix([[1, 0], [0, -1]]),\n",
    " sym.Matrix([[1, 0], [0, 1]]),\n",
    " sym.Matrix([[-(sym.Rational(1/2)), -(sym.sqrt(3)/2)], [sym.sqrt(3)/2, -(sym.Rational(1/2))]]),\n",
    " sym.Matrix([[-(sym.Rational(1/2)), sym.sqrt(3)/2], [sym.sqrt(3)/2, sym.Rational(1/2)]]),\n",
    " sym.Matrix([[-(sym.Rational(1/2)), -(sym.sqrt(3)/2)], [-(sym.sqrt(3)/2), sym.Rational(1/2)]]),\n",
    " sym.Matrix([[-(sym.Rational(1/2)), sym.sqrt(3)/2], [-(sym.sqrt(3)/2), -(sym.Rational(1/2))]]),\n",
    " sym.Matrix([[-(sym.Rational(1/2)), sym.sqrt(3)/2], [-(sym.sqrt(3)/2), -(sym.Rational(1/2))]]),\n",
    " sym.Matrix([[-(sym.Rational(1/2)), -(sym.sqrt(3)/2)], [-(sym.sqrt(3)/2), sym.Rational(1/2)]]),\n",
    " sym.Matrix([[-(sym.Rational(1/2)), sym.sqrt(3)/2], [sym.sqrt(3)/2, sym.Rational(1/2)]]),\n",
    " sym.Matrix([[-(sym.Rational(1/2)), -(sym.sqrt(3)/2)], [sym.sqrt(3)/2, -(sym.Rational(1/2))]]),\n",
    " sym.Matrix([[1, 0], [0, 1]]),\n",
    " sym.Matrix([[1, 0], [0, -1]]),\n",
    " sym.Matrix([[-(sym.Rational(1/2)), sym.sqrt(3)/2], [sym.sqrt(3)/2, sym.Rational(1/2)]]),\n",
    " sym.Matrix([[-(sym.Rational(1/2)), -(sym.sqrt(3)/2)], [sym.sqrt(3)/2, -(sym.Rational(1/2))]]),\n",
    " sym.Matrix([[-(sym.Rational(1/2)), sym.sqrt(3)/2], [-(sym.sqrt(3)/2), -(sym.Rational(1/2))]]),\n",
    " sym.Matrix([[-(sym.Rational(1/2)), -(sym.sqrt(3)/2)], [-(sym.sqrt(3)/2), sym.Rational(1/2)]]),\n",
    " sym.Matrix([[1, 0], [0, -1]]),\n",
    " sym.Matrix([[1, 0], [0, 1]])\n",
    "]\n",
    "\n",
    "char_2d = np.array([2, 0, 0, -1, -1, 0, 0, 2, -1, 0, 0, -1, -1, 0, 0, -1, 2, 0, 0, -1, -1, 0, 0, 2])\n",
    "\n",
    "# rep_2d"
   ]
  },
  {
   "cell_type": "markdown",
   "id": "e9042fdb",
   "metadata": {},
   "source": [
    "#### Tenzoriniai įvaizdžiai"
   ]
  },
  {
   "cell_type": "code",
   "execution_count": 8,
   "id": "f2391b1d",
   "metadata": {},
   "outputs": [],
   "source": [
    "# Dvimačio ir standartinio įvaizdžio tenzorinė sandauga\n",
    "rep_2d_st = []\n",
    "for i in range(ng):\n",
    "    rep_2d_st.append(TensorProduct(rep_2d[i], rep_st[i]))\n",
    "\n",
    "# charakterių sandauga\n",
    "char_2d_st = np.array(char_2d) * np.array(char_st)"
   ]
  },
  {
   "cell_type": "code",
   "execution_count": 9,
   "id": "4bf46700",
   "metadata": {},
   "outputs": [],
   "source": [
    "# Standartinio įvaizdžio tenzorinis kvadratas\n",
    "rep_st_st = []\n",
    "for i in range(ng):\n",
    "    rep_st_st.append(TensorProduct(rep_st[i], rep_st[i]))\n",
    "\n",
    "# charakterių sandauga\n",
    "char_st_st = np.array(char_st) * np.array(char_st)"
   ]
  },
  {
   "cell_type": "code",
   "execution_count": 10,
   "id": "30c1a668",
   "metadata": {},
   "outputs": [],
   "source": [
    "# Standartinio ir standartinio dualaus įvaizdžio tenzorinė sandauga\n",
    "rep_st_std = []\n",
    "for i in range(ng):\n",
    "    rep_2d_st.append(TensorProduct(rep_st[i], rep_std[i]))\n",
    "    \n",
    "# charakterių sandauga    \n",
    "char_st_std = np.array(char_st) * np.array(char_std)"
   ]
  },
  {
   "cell_type": "markdown",
   "id": "d438dec0",
   "metadata": {},
   "source": [
    "### Charakterių skaliarinės sandaugos"
   ]
  },
  {
   "cell_type": "code",
   "execution_count": 11,
   "id": "fdc744aa",
   "metadata": {},
   "outputs": [],
   "source": [
    "# neredukuojamų įvaizdžių charakteriai\n",
    "char_irreps = [char_triv, char_alt, char_st, char_std, char_2d]"
   ]
  },
  {
   "cell_type": "code",
   "execution_count": 12,
   "id": "8d444521",
   "metadata": {},
   "outputs": [
    {
     "data": {
      "text/plain": [
       "array([[1, 0, 0, 0, 0],\n",
       "       [0, 1, 0, 0, 0],\n",
       "       [0, 0, 1, 0, 0],\n",
       "       [0, 0, 0, 1, 0],\n",
       "       [0, 0, 0, 0, 1]])"
      ]
     },
     "execution_count": 12,
     "metadata": {},
     "output_type": "execute_result"
    }
   ],
   "source": [
    "# patikriname neredukuojamų įvaizdžių charakterių ortogonalumo sąryšius\n",
    "table = np.zeros([5,5], dtype=int)\n",
    "for i in range(5):\n",
    "    for j in range(5):\n",
    "        table[i,j] = (char_irreps[i] * char_irreps[j]).sum()/ng\n",
    "        \n",
    "table"
   ]
  },
  {
   "cell_type": "code",
   "execution_count": 13,
   "id": "e2b42ede",
   "metadata": {},
   "outputs": [
    {
     "data": {
      "image/png": "[encoded data removed]",
      "text/latex": [
       "$\\displaystyle \\left[ 0, \\  0, \\  1, \\  1, \\  0\\right]$"
      ],
      "text/plain": [
       "[0, 0, 1, 1, 0]"
      ]
     },
     "execution_count": 13,
     "metadata": {},
     "output_type": "execute_result"
    }
   ],
   "source": [
    "# Dvimacio ir standartinio įvaizdžių tenzorinės sandaugos išskaidymas\n",
    "m = []\n",
    "for i in range(5):\n",
    "    m.append(int((char_2d_st * char_irreps[i]).sum()/ng))\n",
    "    \n",
    "# m = [m_triv, m_alt, m_st, m_std, m_2d]\n",
    "m"
   ]
  },
  {
   "cell_type": "code",
   "execution_count": 14,
   "id": "1e505dfc",
   "metadata": {},
   "outputs": [
    {
     "data": {
      "image/png": "[encoded data removed]",
      "text/latex": [
       "$\\displaystyle \\left[ 1, \\  0, \\  1, \\  1, \\  1\\right]$"
      ],
      "text/plain": [
       "[1, 0, 1, 1, 1]"
      ]
     },
     "execution_count": 14,
     "metadata": {},
     "output_type": "execute_result"
    }
   ],
   "source": [
    "# Standartinio ir standartinio įvaizdžių tenzorinės sandaugos išskaidymas\n",
    "m = []\n",
    "for i in range(5):\n",
    "    m.append(int((char_st_st * char_irreps[i]).sum()/ng))\n",
    "    \n",
    "# m = [m_triv, m_alt, m_st, m_std, m_2d]\n",
    "m"
   ]
  },
  {
   "cell_type": "code",
   "execution_count": 15,
   "id": "103d110e",
   "metadata": {},
   "outputs": [
    {
     "data": {
      "image/png": "[encoded data removed]",
      "text/latex": [
       "$\\displaystyle \\left[ 0, \\  1, \\  1, \\  1, \\  1\\right]$"
      ],
      "text/plain": [
       "[0, 1, 1, 1, 1]"
      ]
     },
     "execution_count": 15,
     "metadata": {},
     "output_type": "execute_result"
    }
   ],
   "source": [
    "# Standartinio ir standartinio dualaus įvaizdžių tenzorinės sandaugos išskaidymas\n",
    "m = []\n",
    "for i in range(5):\n",
    "    m.append(int((char_st_std * char_irreps[i]).sum()/ng))\n",
    "    \n",
    "# m = [m_triv, m_alt, m_st, m_std, m_2d]\n",
    "m"
   ]
  },
  {
   "cell_type": "code",
   "execution_count": 16,
   "id": "e346c061",
   "metadata": {},
   "outputs": [
    {
     "data": {
      "image/png": "[encoded data removed]",
      "text/latex": [
       "$\\displaystyle \\left[ 171, \\  171, \\  0, \\  0, \\  341\\right]$"
      ],
      "text/plain": [
       "[171, 171, 0, 0, 341]"
      ]
     },
     "execution_count": 16,
     "metadata": {},
     "output_type": "execute_result"
    }
   ],
   "source": [
    "# Fun stuff\n",
    "m = []\n",
    "for i in range(5):\n",
    "    m.append(int((char_2d**10 * char_irreps[i]).sum()/ng))\n",
    "    \n",
    "# m = [m_triv, m_alt, m_st, m_std, m_2d]\n",
    "m"
   ]
  },
  {
   "cell_type": "markdown",
   "id": "556ac300",
   "metadata": {},
   "source": [
    "### Dvimačio ir standartinio įvaizdžių tenzorinės sandaugos išskaidymas"
   ]
  },
  {
   "cell_type": "markdown",
   "id": "8145d530",
   "metadata": {},
   "source": [
    "#### Išskaidymo operatoriai"
   ]
  },
  {
   "cell_type": "markdown",
   "id": "93693f80",
   "metadata": {},
   "source": [
    "Naudosime išskaidymo operatorius:\n",
    "\n",
    "$\n",
    "p^{(i)}_{ab}= \\dfrac{n_i}{n_G} \\sum_{g\\in G} r^{(i)}_{ba}(g^{-1})\\,\\rho_V(g) \n",
    "$"
   ]
  },
  {
   "cell_type": "code",
   "execution_count": 17,
   "id": "e87c86ac",
   "metadata": {},
   "outputs": [],
   "source": [
    "# Išskaidymo operatoriai standartiniam įvaizdžiui\n",
    "def p_st_ab(a,b):\n",
    "    p = sym.zeros(6)\n",
    "    for i in range(ng):\n",
    "        p += rep_st[i].inv()[b-1,a-1]*rep_2d_st[i]\n",
    "    return sym.Rational(3,ng)*p"
   ]
  },
  {
   "cell_type": "code",
   "execution_count": 18,
   "id": "ae9e47de",
   "metadata": {},
   "outputs": [],
   "source": [
    "# Išskaidymo operatoriai standartiniam dualiam įvaizdžiui\n",
    "def p_std_ab(a,b):\n",
    "    p = sym.zeros(6)\n",
    "    for i in range(ng):\n",
    "        p += rep_std[i].inv()[b-1,a-1]*rep_2d_st[i]\n",
    "    return sym.Rational(3,ng)*p"
   ]
  },
  {
   "cell_type": "markdown",
   "id": "84396f0d",
   "metadata": {},
   "source": [
    "Įvaizdžiai $V_{st}$ ir $V_{std}$ yra trimačiai. Mums reikia sukonstruoti jų \"pirmus\", \"antrus\" ir \"trečius\" vektorius."
   ]
  },
  {
   "cell_type": "code",
   "execution_count": 19,
   "id": "5cecfdbc",
   "metadata": {},
   "outputs": [
    {
     "data": {
      "image/png": "[encoded data removed]",
      "text/latex": [
       "$\\displaystyle \\left[ \\left( 0, \\  5, \\  \\left[ \\left[\\begin{matrix}1\\\\0\\\\0\\\\0\\\\0\\\\0\\end{matrix}\\right], \\  \\left[\\begin{matrix}0\\\\- \\sqrt{3}\\\\1\\\\0\\\\0\\\\0\\end{matrix}\\right], \\  \\left[\\begin{matrix}0\\\\0\\\\0\\\\1\\\\0\\\\0\\end{matrix}\\right], \\  \\left[\\begin{matrix}0\\\\\\sqrt{3}\\\\0\\\\0\\\\1\\\\0\\end{matrix}\\right], \\  \\left[\\begin{matrix}0\\\\-1\\\\0\\\\0\\\\0\\\\1\\end{matrix}\\right]\\right]\\right), \\  \\left( 1, \\  1, \\  \\left[ \\left[\\begin{matrix}0\\\\1\\\\\\sqrt{3}\\\\0\\\\- \\sqrt{3}\\\\1\\end{matrix}\\right]\\right]\\right)\\right]$"
      ],
      "text/plain": [
       "⎡⎛      ⎡⎡1⎤  ⎡ 0 ⎤  ⎡0⎤  ⎡0 ⎤  ⎡0 ⎤⎤⎞  ⎛      ⎡⎡ 0 ⎤⎤⎞⎤\n",
       "⎢⎜      ⎢⎢ ⎥  ⎢   ⎥  ⎢ ⎥  ⎢  ⎥  ⎢  ⎥⎥⎟  ⎜      ⎢⎢   ⎥⎥⎟⎥\n",
       "⎢⎜      ⎢⎢0⎥  ⎢-√3⎥  ⎢0⎥  ⎢√3⎥  ⎢-1⎥⎥⎟  ⎜      ⎢⎢ 1 ⎥⎥⎟⎥\n",
       "⎢⎜      ⎢⎢ ⎥  ⎢   ⎥  ⎢ ⎥  ⎢  ⎥  ⎢  ⎥⎥⎟  ⎜      ⎢⎢   ⎥⎥⎟⎥\n",
       "⎢⎜      ⎢⎢0⎥  ⎢ 1 ⎥  ⎢0⎥  ⎢0 ⎥  ⎢0 ⎥⎥⎟  ⎜      ⎢⎢√3 ⎥⎥⎟⎥\n",
       "⎢⎜0, 5, ⎢⎢ ⎥, ⎢   ⎥, ⎢ ⎥, ⎢  ⎥, ⎢  ⎥⎥⎟, ⎜1, 1, ⎢⎢   ⎥⎥⎟⎥\n",
       "⎢⎜      ⎢⎢0⎥  ⎢ 0 ⎥  ⎢1⎥  ⎢0 ⎥  ⎢0 ⎥⎥⎟  ⎜      ⎢⎢ 0 ⎥⎥⎟⎥\n",
       "⎢⎜      ⎢⎢ ⎥  ⎢   ⎥  ⎢ ⎥  ⎢  ⎥  ⎢  ⎥⎥⎟  ⎜      ⎢⎢   ⎥⎥⎟⎥\n",
       "⎢⎜      ⎢⎢0⎥  ⎢ 0 ⎥  ⎢0⎥  ⎢1 ⎥  ⎢0 ⎥⎥⎟  ⎜      ⎢⎢-√3⎥⎥⎟⎥\n",
       "⎢⎜      ⎢⎢ ⎥  ⎢   ⎥  ⎢ ⎥  ⎢  ⎥  ⎢  ⎥⎥⎟  ⎜      ⎢⎢   ⎥⎥⎟⎥\n",
       "⎣⎝      ⎣⎣0⎦  ⎣ 0 ⎦  ⎣0⎦  ⎣0 ⎦  ⎣1 ⎦⎦⎠  ⎝      ⎣⎣ 1 ⎦⎦⎠⎦"
      ]
     },
     "execution_count": 19,
     "metadata": {},
     "output_type": "execute_result"
    }
   ],
   "source": [
    "# Projektorius p_st_ab(1,1) turi vieną tikrinį vektorių su tikrine verte 1.\n",
    "# Tai yra \"pirmasis\" V_st vektorius\n",
    "eig = p_st_ab(1,1).eigenvects()\n",
    "eig"
   ]
  },
  {
   "cell_type": "code",
   "execution_count": 20,
   "id": "87784888",
   "metadata": {},
   "outputs": [],
   "source": [
    "# normuojame \"pirmąjį\" vektorių\n",
    "v_st_1 = sym.GramSchmidt(eig[1][2], orthonormal=True)[0]"
   ]
  },
  {
   "cell_type": "code",
   "execution_count": 21,
   "id": "aa18ef39",
   "metadata": {},
   "outputs": [],
   "source": [
    "# \"antrasis\" ir \"trečiasis\" V_st vektoriai\n",
    "v_st_2 = p_st_ab(2,1) * v_st_1\n",
    "v_st_3 = p_st_ab(3,1) * v_st_1"
   ]
  },
  {
   "cell_type": "code",
   "execution_count": 22,
   "id": "b7723e62",
   "metadata": {},
   "outputs": [
    {
     "data": {
      "image/png": "[encoded data removed]",
      "text/latex": [
       "$\\displaystyle \\left[ \\left( 0, \\  5, \\  \\left[ \\left[\\begin{matrix}- \\frac{\\sqrt{2}}{4}\\\\1\\\\0\\\\0\\\\0\\\\0\\end{matrix}\\right], \\  \\left[\\begin{matrix}- \\frac{\\sqrt{6}}{4}\\\\0\\\\1\\\\0\\\\0\\\\0\\end{matrix}\\right], \\  \\left[\\begin{matrix}0\\\\0\\\\0\\\\1\\\\0\\\\0\\end{matrix}\\right], \\  \\left[\\begin{matrix}- \\frac{\\sqrt{6}}{4}\\\\0\\\\0\\\\0\\\\1\\\\0\\end{matrix}\\right], \\  \\left[\\begin{matrix}\\frac{\\sqrt{2}}{4}\\\\0\\\\0\\\\0\\\\0\\\\1\\end{matrix}\\right]\\right]\\right), \\  \\left( 1, \\  1, \\  \\left[ \\left[\\begin{matrix}- 2 \\sqrt{2}\\\\-1\\\\- \\sqrt{3}\\\\0\\\\- \\sqrt{3}\\\\1\\end{matrix}\\right]\\right]\\right)\\right]$"
      ],
      "text/plain": [
       "⎡⎛      ⎡⎡-√2 ⎤  ⎡-√6 ⎤       ⎡-√6 ⎤  ⎡√2⎤⎤⎞                   ⎤\n",
       "⎢⎜      ⎢⎢────⎥  ⎢────⎥  ⎡0⎤  ⎢────⎥  ⎢──⎥⎥⎟  ⎛      ⎡⎡-2⋅√2⎤⎤⎞⎥\n",
       "⎢⎜      ⎢⎢ 4  ⎥  ⎢ 4  ⎥  ⎢ ⎥  ⎢ 4  ⎥  ⎢4 ⎥⎥⎟  ⎜      ⎢⎢     ⎥⎥⎟⎥\n",
       "⎢⎜      ⎢⎢    ⎥  ⎢    ⎥  ⎢0⎥  ⎢    ⎥  ⎢  ⎥⎥⎟  ⎜      ⎢⎢ -1  ⎥⎥⎟⎥\n",
       "⎢⎜      ⎢⎢ 1  ⎥  ⎢ 0  ⎥  ⎢ ⎥  ⎢ 0  ⎥  ⎢0 ⎥⎥⎟  ⎜      ⎢⎢     ⎥⎥⎟⎥\n",
       "⎢⎜      ⎢⎢    ⎥  ⎢    ⎥  ⎢0⎥  ⎢    ⎥  ⎢  ⎥⎥⎟  ⎜      ⎢⎢ -√3 ⎥⎥⎟⎥\n",
       "⎢⎜0, 5, ⎢⎢ 0  ⎥, ⎢ 1  ⎥, ⎢ ⎥, ⎢ 0  ⎥, ⎢0 ⎥⎥⎟, ⎜1, 1, ⎢⎢     ⎥⎥⎟⎥\n",
       "⎢⎜      ⎢⎢    ⎥  ⎢    ⎥  ⎢1⎥  ⎢    ⎥  ⎢  ⎥⎥⎟  ⎜      ⎢⎢  0  ⎥⎥⎟⎥\n",
       "⎢⎜      ⎢⎢ 0  ⎥  ⎢ 0  ⎥  ⎢ ⎥  ⎢ 0  ⎥  ⎢0 ⎥⎥⎟  ⎜      ⎢⎢     ⎥⎥⎟⎥\n",
       "⎢⎜      ⎢⎢    ⎥  ⎢    ⎥  ⎢0⎥  ⎢    ⎥  ⎢  ⎥⎥⎟  ⎜      ⎢⎢ -√3 ⎥⎥⎟⎥\n",
       "⎢⎜      ⎢⎢ 0  ⎥  ⎢ 0  ⎥  ⎢ ⎥  ⎢ 1  ⎥  ⎢0 ⎥⎥⎟  ⎜      ⎢⎢     ⎥⎥⎟⎥\n",
       "⎢⎜      ⎢⎢    ⎥  ⎢    ⎥  ⎣0⎦  ⎢    ⎥  ⎢  ⎥⎥⎟  ⎝      ⎣⎣  1  ⎦⎦⎠⎥\n",
       "⎣⎝      ⎣⎣ 0  ⎦  ⎣ 0  ⎦       ⎣ 0  ⎦  ⎣1 ⎦⎦⎠                   ⎦"
      ]
     },
     "execution_count": 22,
     "metadata": {},
     "output_type": "execute_result"
    }
   ],
   "source": [
    "# Projektorius p_std_ab(1,1) turi vieną tikrinį vektorių su tikrine verte 1.\n",
    "# Tai yra \"pirmasis\" V_std vektorius\n",
    "eig = p_std_ab(1,1).eigenvects()\n",
    "eig"
   ]
  },
  {
   "cell_type": "code",
   "execution_count": 23,
   "id": "3cff0490",
   "metadata": {},
   "outputs": [],
   "source": [
    "# normuojame \"pirmąjį\" vektorių\n",
    "v_std_1 = sym.GramSchmidt(eig[1][2], orthonormal=True)[0]"
   ]
  },
  {
   "cell_type": "code",
   "execution_count": 24,
   "id": "875f6d84",
   "metadata": {},
   "outputs": [],
   "source": [
    "# \"antrasis\" ir \"trečiasis\" V_std vektoriai\n",
    "v_std_2 = p_std_ab(2,1) * v_std_1\n",
    "v_std_3 = p_std_ab(3,1) * v_std_1"
   ]
  },
  {
   "cell_type": "markdown",
   "id": "ccf134e2",
   "metadata": {},
   "source": [
    "#### Įvaizdžio blok-diagonalizavimas"
   ]
  },
  {
   "cell_type": "code",
   "execution_count": 25,
   "id": "589710ae",
   "metadata": {},
   "outputs": [
    {
     "data": {
      "image/png": "[encoded data removed]",
      "text/latex": [
       "$\\displaystyle \\left[\\begin{matrix}0 & \\frac{\\sqrt{2}}{4} & \\frac{\\sqrt{6}}{4} & - \\frac{\\sqrt{2}}{2} & 0 & 0\\\\\\frac{\\sqrt{2}}{4} & \\frac{1}{4} & - \\frac{\\sqrt{3}}{4} & - \\frac{1}{4} & - \\frac{\\sqrt{3}}{4} & \\frac{\\sqrt{6}}{4}\\\\\\frac{\\sqrt{6}}{4} & - \\frac{\\sqrt{3}}{4} & - \\frac{1}{4} & - \\frac{\\sqrt{3}}{4} & \\frac{1}{4} & - \\frac{\\sqrt{2}}{4}\\\\0 & - \\frac{\\sqrt{6}}{4} & \\frac{\\sqrt{2}}{4} & 0 & - \\frac{\\sqrt{2}}{2} & 0\\\\- \\frac{\\sqrt{6}}{4} & - \\frac{\\sqrt{3}}{4} & - \\frac{1}{4} & - \\frac{\\sqrt{3}}{4} & \\frac{1}{4} & \\frac{\\sqrt{2}}{4}\\\\\\frac{\\sqrt{2}}{4} & - \\frac{1}{4} & \\frac{\\sqrt{3}}{4} & \\frac{1}{4} & \\frac{\\sqrt{3}}{4} & \\frac{\\sqrt{6}}{4}\\end{matrix}\\right]$"
      ],
      "text/plain": [
       "⎡       √2    √6   -√2             ⎤\n",
       "⎢ 0     ──    ──   ────   0     0  ⎥\n",
       "⎢       4     4     2              ⎥\n",
       "⎢                                  ⎥\n",
       "⎢ √2         -√3         -√3    √6 ⎥\n",
       "⎢ ──   1/4   ────  -1/4  ────   ── ⎥\n",
       "⎢ 4           4           4     4  ⎥\n",
       "⎢                                  ⎥\n",
       "⎢ √6   -√3         -√3         -√2 ⎥\n",
       "⎢ ──   ────  -1/4  ────  1/4   ────⎥\n",
       "⎢ 4     4           4           4  ⎥\n",
       "⎢                                  ⎥\n",
       "⎢      -√6    √2         -√2       ⎥\n",
       "⎢ 0    ────   ──    0    ────   0  ⎥\n",
       "⎢       4     4           2        ⎥\n",
       "⎢                                  ⎥\n",
       "⎢-√6   -√3         -√3          √2 ⎥\n",
       "⎢────  ────  -1/4  ────  1/4    ── ⎥\n",
       "⎢ 4     4           4           4  ⎥\n",
       "⎢                                  ⎥\n",
       "⎢ √2          √3          √3    √6 ⎥\n",
       "⎢ ──   -1/4   ──   1/4    ──    ── ⎥\n",
       "⎣ 4           4           4     4  ⎦"
      ]
     },
     "execution_count": 25,
     "metadata": {},
     "output_type": "execute_result"
    }
   ],
   "source": [
    "# Bazės pakeitimo matrica\n",
    "C = sym.Matrix.hstack(v_st_1,v_st_2,v_st_3,v_std_1,v_std_2,v_std_3)\n",
    "C"
   ]
  },
  {
   "cell_type": "code",
   "execution_count": 26,
   "id": "74c7fd22",
   "metadata": {},
   "outputs": [],
   "source": [
    "# Blok-diagonalizavimas su panašumo transformacija\n",
    "rep_2d_st_bd = []\n",
    "for i in range(ng):\n",
    "    rep_2d_st_bd.append(C.inv()*rep_2d_st[i]*C)"
   ]
  },
  {
   "cell_type": "code",
   "execution_count": 27,
   "id": "fca90c92",
   "metadata": {},
   "outputs": [
    {
     "data": {
      "image/png": "[encoded data removed]",
      "text/latex": [
       "$\\displaystyle \\left[ \\left[\\begin{matrix}\\frac{1}{6} & \\frac{\\sqrt{2}}{6} & \\frac{\\sqrt{6}}{6} & - \\frac{\\sqrt{3}}{6} & - \\frac{\\sqrt{6}}{6} & - \\frac{\\sqrt{2}}{2}\\\\\\frac{\\sqrt{2}}{6} & - \\frac{5}{12} & \\frac{\\sqrt{3}}{12} & - \\frac{\\sqrt{6}}{6} & \\frac{5 \\sqrt{3}}{12} & - \\frac{1}{4}\\\\- \\frac{\\sqrt{6}}{6} & - \\frac{\\sqrt{3}}{12} & \\frac{1}{4} & \\frac{\\sqrt{2}}{2} & \\frac{1}{4} & - \\frac{\\sqrt{3}}{4}\\\\\\frac{\\sqrt{3}}{6} & \\frac{\\sqrt{6}}{6} & \\frac{\\sqrt{2}}{2} & \\frac{1}{6} & \\frac{\\sqrt{2}}{6} & \\frac{\\sqrt{6}}{6}\\\\\\frac{\\sqrt{6}}{6} & - \\frac{5 \\sqrt{3}}{12} & \\frac{1}{4} & \\frac{\\sqrt{2}}{6} & - \\frac{5}{12} & \\frac{\\sqrt{3}}{12}\\\\- \\frac{\\sqrt{2}}{2} & - \\frac{1}{4} & \\frac{\\sqrt{3}}{4} & - \\frac{\\sqrt{6}}{6} & - \\frac{\\sqrt{3}}{12} & \\frac{1}{4}\\end{matrix}\\right], \\  \\left[\\begin{matrix}- \\frac{1}{3} & - \\frac{\\sqrt{2}}{3} & - \\frac{\\sqrt{6}}{3} & 0 & 0 & 0\\\\- \\frac{\\sqrt{2}}{3} & \\frac{5}{6} & - \\frac{\\sqrt{3}}{6} & 0 & 0 & 0\\\\\\frac{\\sqrt{6}}{3} & \\frac{\\sqrt{3}}{6} & - \\frac{1}{2} & 0 & 0 & 0\\\\0 & 0 & 0 & \\frac{1}{2} & \\frac{\\sqrt{3}}{6} & \\frac{\\sqrt{6}}{3}\\\\0 & 0 & 0 & \\frac{\\sqrt{3}}{2} & - \\frac{1}{6} & - \\frac{\\sqrt{2}}{3}\\\\0 & 0 & 0 & 0 & \\frac{2 \\sqrt{2}}{3} & - \\frac{1}{3}\\end{matrix}\\right]\\right]$"
      ],
      "text/plain": [
       "⎡⎡        √2    √6   -√3   -√6    -√2 ⎤  ⎡      -√2   -√6                  ⎤⎤\n",
       "⎢⎢1/6     ──    ──   ────  ────   ────⎥  ⎢-1/3  ────  ────   0    0     0  ⎥⎥\n",
       "⎢⎢        6     6     6     6      2  ⎥  ⎢       3     3                   ⎥⎥\n",
       "⎢⎢                                    ⎥  ⎢                                 ⎥⎥\n",
       "⎢⎢ √2           √3   -√6   5⋅√3       ⎥  ⎢-√2         -√3                  ⎥⎥\n",
       "⎢⎢ ──   -5/12   ──   ────  ────   -1/4⎥  ⎢────  5/6   ────   0    0     0  ⎥⎥\n",
       "⎢⎢ 6            12    6     12        ⎥  ⎢ 3           6                   ⎥⎥\n",
       "⎢⎢                                    ⎥  ⎢                                 ⎥⎥\n",
       "⎢⎢-√6    -√3          √2          -√3 ⎥  ⎢ √6    √3                        ⎥⎥\n",
       "⎢⎢────   ────   1/4   ──    1/4   ────⎥  ⎢ ──    ──   -1/2   0    0     0  ⎥⎥\n",
       "⎢⎢ 6      12          2            4  ⎥  ⎢ 3     6                         ⎥⎥\n",
       "⎢⎢                                    ⎥, ⎢                                 ⎥⎥\n",
       "⎢⎢ √3     √6    √2          √2     √6 ⎥  ⎢                        √3    √6 ⎥⎥\n",
       "⎢⎢ ──     ──    ──   1/6    ──     ── ⎥  ⎢ 0     0     0    1/2   ──    ── ⎥⎥\n",
       "⎢⎢ 6      6     2           6      6  ⎥  ⎢                        6     3  ⎥⎥\n",
       "⎢⎢                                    ⎥  ⎢                                 ⎥⎥\n",
       "⎢⎢ √6   -5⋅√3         √2           √3 ⎥  ⎢                  √3         -√2 ⎥⎥\n",
       "⎢⎢ ──   ──────  1/4   ──   -5/12   ── ⎥  ⎢ 0     0     0    ──   -1/6  ────⎥⎥\n",
       "⎢⎢ 6      12          6            12 ⎥  ⎢                  2           3  ⎥⎥\n",
       "⎢⎢                                    ⎥  ⎢                                 ⎥⎥\n",
       "⎢⎢-√2           √3   -√6   -√3        ⎥  ⎢                       2⋅√2      ⎥⎥\n",
       "⎢⎢────   -1/4   ──   ────  ────   1/4 ⎥  ⎢ 0     0     0     0   ────  -1/3⎥⎥\n",
       "⎣⎣ 2            4     6     12        ⎦  ⎣                        3        ⎦⎦"
      ]
     },
     "execution_count": 27,
     "metadata": {},
     "output_type": "execute_result"
    }
   ],
   "source": [
    "# patikrinimas: \"prieš\" ir \"po\"\n",
    "[rep_2d_st[3], rep_2d_st_bd[3]]"
   ]
  }
 ],
 "metadata": {
  "kernelspec": {
   "display_name": "Python 3 (ipykernel)",
   "language": "python",
   "name": "python3"
  },
  "language_info": {
   "codemirror_mode": {
    "name": "ipython",
    "version": 3
   },
   "file_extension": ".py",
   "mimetype": "text/x-python",
   "name": "python",
   "nbconvert_exporter": "python",
   "pygments_lexer": "ipython3",
   "version": "3.9.13"
  },
  "latex_envs": {
   "LaTeX_envs_menu_present": true,
   "autoclose": false,
   "autocomplete": true,
   "bibliofile": "biblio.bib",
   "cite_by": "apalike",
   "current_citInitial": 1,
   "eqLabelWithNumbers": true,
   "eqNumInitial": 1,
   "hotkeys": {
    "equation": "Ctrl-E",
    "itemize": "Ctrl-I"
   },
   "labels_anchors": false,
   "latex_user_defs": false,
   "report_style_numbering": false,
   "user_envs_cfg": false
  }
 },
 "nbformat": 4,
 "nbformat_minor": 5
}
