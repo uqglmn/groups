{
 "cells": [
  {
   "cell_type": "markdown",
   "id": "89f4d37e",
   "metadata": {},
   "source": [
    "## Jungo simetrizatorių pavyzdys"
   ]
  },
  {
   "cell_type": "markdown",
   "id": "4ff91a03",
   "metadata": {},
   "source": [
    "<a href=\"https://colab.research.google.com/github/uqglmn/groups/blob/main/Pavyzdys_S3_Jungo_simetrizatoriai.ipynb\" target=\"_parent\"><img src=\"https://colab.research.google.com/assets/colab-badge.svg\" alt=\"Open In Colab\"/></a>"
   ]
  },
  {
   "cell_type": "markdown",
   "id": "dcf46292",
   "metadata": {},
   "source": [
    "Šiame pavyzdyje Jungo simetrizatorių pagalba blok-diagonalizuosime reguliarų $S_3$ įvaizdį. To pasekoje sukonstruosime visus neredukuojamus $S_3$ įvaizdžius."
   ]
  },
  {
   "cell_type": "code",
   "execution_count": 1,
   "id": "4d972ac3",
   "metadata": {},
   "outputs": [],
   "source": [
    "# Bibliotekos\n",
    "import sympy as sym\n",
    "import numpy as np\n",
    "from sympy.physics.quantum import TensorProduct\n",
    "\n",
    "# Renderinimo nustatymas\n",
    "sym.init_printing(use_unicode=True)"
   ]
  },
  {
   "cell_type": "code",
   "execution_count": 2,
   "id": "a613d8ba",
   "metadata": {},
   "outputs": [],
   "source": [
    "# Grupės S3 eilė\n",
    "ng = 6"
   ]
  },
  {
   "cell_type": "code",
   "execution_count": 3,
   "id": "c46b2333",
   "metadata": {},
   "outputs": [],
   "source": [
    "# funkcija vektorių normavimui\n",
    "def normalise(v):\n",
    "    n = 1/sym.sqrt((v.T * v)[0])\n",
    "    return n*v"
   ]
  },
  {
   "cell_type": "markdown",
   "id": "ac0af5f7",
   "metadata": {},
   "source": [
    "### Reguliarusis įvaizdis"
   ]
  },
  {
   "cell_type": "code",
   "execution_count": 4,
   "id": "6aad6ece",
   "metadata": {},
   "outputs": [],
   "source": [
    "# Grupės S3 algebros bazė\n",
    "pe   = sym.Matrix([[1,0,0,0,0,0]]).T\n",
    "p12  = sym.Matrix([[0,1,0,0,0,0]]).T\n",
    "p23  = sym.Matrix([[0,0,1,0,0,0]]).T\n",
    "p13  = sym.Matrix([[0,0,0,1,0,0]]).T\n",
    "p123 = sym.Matrix([[0,0,0,0,1,0]]).T\n",
    "p321 = sym.Matrix([[0,0,0,0,0,1]]).T\n",
    "\n",
    "basis = [pe, p12, p23, p13, p123, p321]"
   ]
  },
  {
   "cell_type": "code",
   "execution_count": 5,
   "id": "b0af5191",
   "metadata": {},
   "outputs": [],
   "source": [
    "# Reguliarus matricinis ivaizdis\n",
    "Re   = sym.Matrix([[1,0,0,0,0,0],[0,1,0,0,0,0],[0,0,1,0,0,0],[0,0,0,1,0,0],[0,0,0,0,1,0],[0,0,0,0,0,1]])\n",
    "R12  = sym.Matrix([[0,1,0,0,0,0],[1,0,0,0,0,0],[0,0,0,0,1,0],[0,0,0,0,0,1],[0,0,1,0,0,0],[0,0,0,1,0,0]])\n",
    "R23  = sym.Matrix([[0,0,1,0,0,0],[0,0,0,0,0,1],[1,0,0,0,0,0],[0,0,0,0,1,0],[0,0,0,1,0,0],[0,1,0,0,0,0]])\n",
    "R13  = sym.Matrix([[0,0,0,1,0,0],[0,0,0,0,1,0],[0,0,0,0,0,1],[1,0,0,0,0,0],[0,1,0,0,0,0],[0,0,1,0,0,0]])\n",
    "R123 = sym.Matrix([[0,0,0,0,0,1],[0,0,1,0,0,0],[0,0,0,1,0,0],[0,1,0,0,0,0],[1,0,0,0,0,0],[0,0,0,0,1,0]])\n",
    "R321 = sym.Matrix([[0,0,0,0,1,0],[0,0,0,1,0,0],[0,1,0,0,0,0],[0,0,1,0,0,0],[0,0,0,0,0,1],[1,0,0,0,0,0]])\n",
    "\n",
    "rep_R = [Re, R12, R23, R13, R123, R321]"
   ]
  },
  {
   "cell_type": "markdown",
   "id": "4ec2fc33",
   "metadata": {},
   "source": [
    "### Jungo simetrizatoriai"
   ]
  },
  {
   "cell_type": "markdown",
   "id": "6f8ccbb3",
   "metadata": {},
   "source": [
    "Grupė $S_3$ turi tris Jungo diagramas žymimas skirstiniais (3), (2,1) ir (1,1,1)\n",
    "\n",
    "- Jungo diagrama (3) turi vieną standartinį tablo: [1,2,3]. Jis atitinka trivialų įvaizdį.\n",
    "- Jungo diagrama (2,1) turi du standartinius tablo: [1,2][3] ir [1,3][2]. Jie atitinka standartinį įvaizdį.\n",
    "- Jungo diagrama (1,1,1) turi vieną standartinį tablo: [1][2][3]. Jis atitinka alternuojantį įvaizdį.\n",
    "\n",
    "Jungo simetrizatoriai:\n",
    "\n",
    "$\n",
    "Y_\\Lambda = P_\\Lambda Q_\\Lambda\n",
    "$\n",
    "\n",
    "kur $P_\\Lambda = \\sum_{p \\in R_{\\Lambda}} p$ ir $Q_\\Lambda = \\sum_{p \\in C_{\\Lambda}} (-1)^p p$ yra eilučių ir stulpelių simetrizatoriai."
   ]
  },
  {
   "cell_type": "code",
   "execution_count": 6,
   "id": "538ee9f2",
   "metadata": {},
   "outputs": [
    {
     "data": {
      "image/png": "[encoded data removed]",
      "text/latex": [
       "$\\displaystyle \\left[\\begin{matrix}\\frac{\\sqrt{6}}{6}\\\\\\frac{\\sqrt{6}}{6}\\\\\\frac{\\sqrt{6}}{6}\\\\\\frac{\\sqrt{6}}{6}\\\\\\frac{\\sqrt{6}}{6}\\\\\\frac{\\sqrt{6}}{6}\\end{matrix}\\right]$"
      ],
      "text/plain": [
       "⎡√6⎤\n",
       "⎢──⎥\n",
       "⎢6 ⎥\n",
       "⎢  ⎥\n",
       "⎢√6⎥\n",
       "⎢──⎥\n",
       "⎢6 ⎥\n",
       "⎢  ⎥\n",
       "⎢√6⎥\n",
       "⎢──⎥\n",
       "⎢6 ⎥\n",
       "⎢  ⎥\n",
       "⎢√6⎥\n",
       "⎢──⎥\n",
       "⎢6 ⎥\n",
       "⎢  ⎥\n",
       "⎢√6⎥\n",
       "⎢──⎥\n",
       "⎢6 ⎥\n",
       "⎢  ⎥\n",
       "⎢√6⎥\n",
       "⎢──⎥\n",
       "⎣6 ⎦"
      ]
     },
     "execution_count": 6,
     "metadata": {},
     "output_type": "execute_result"
    }
   ],
   "source": [
    "# Jungo tablo [1,2,3]\n",
    "Row = Re + R12 + R23 + R13 + R123 + R321\n",
    "Col = pe\n",
    "Y_triv = normalise(Row * Col)\n",
    "Y_triv"
   ]
  },
  {
   "cell_type": "code",
   "execution_count": 7,
   "id": "5cd10fa9",
   "metadata": {},
   "outputs": [
    {
     "data": {
      "image/png": "[encoded data removed]",
      "text/latex": [
       "$\\displaystyle \\left[\\begin{matrix}\\frac{1}{2}\\\\\\frac{1}{2}\\\\0\\\\- \\frac{1}{2}\\\\0\\\\- \\frac{1}{2}\\end{matrix}\\right]$"
      ],
      "text/plain": [
       "⎡1/2 ⎤\n",
       "⎢    ⎥\n",
       "⎢1/2 ⎥\n",
       "⎢    ⎥\n",
       "⎢ 0  ⎥\n",
       "⎢    ⎥\n",
       "⎢-1/2⎥\n",
       "⎢    ⎥\n",
       "⎢ 0  ⎥\n",
       "⎢    ⎥\n",
       "⎣-1/2⎦"
      ]
     },
     "execution_count": 7,
     "metadata": {},
     "output_type": "execute_result"
    }
   ],
   "source": [
    "# Jungo tablo [1,2][3]\n",
    "Row = Re + R12\n",
    "Col = pe - p13\n",
    "Y_st1 = normalise(Row * Col)\n",
    "Y_st1"
   ]
  },
  {
   "cell_type": "code",
   "execution_count": 8,
   "id": "f8b97034",
   "metadata": {},
   "outputs": [
    {
     "data": {
      "image/png": "[encoded data removed]",
      "text/latex": [
       "$\\displaystyle \\left[\\begin{matrix}\\frac{1}{2}\\\\- \\frac{1}{2}\\\\0\\\\\\frac{1}{2}\\\\- \\frac{1}{2}\\\\0\\end{matrix}\\right]$"
      ],
      "text/plain": [
       "⎡1/2 ⎤\n",
       "⎢    ⎥\n",
       "⎢-1/2⎥\n",
       "⎢    ⎥\n",
       "⎢ 0  ⎥\n",
       "⎢    ⎥\n",
       "⎢1/2 ⎥\n",
       "⎢    ⎥\n",
       "⎢-1/2⎥\n",
       "⎢    ⎥\n",
       "⎣ 0  ⎦"
      ]
     },
     "execution_count": 8,
     "metadata": {},
     "output_type": "execute_result"
    }
   ],
   "source": [
    "# Jungo tablo [1,3][2]\n",
    "Row = Re + R13\n",
    "Col = pe - p12\n",
    "Y_st2 = normalise(Row * Col)\n",
    "Y_st2"
   ]
  },
  {
   "cell_type": "code",
   "execution_count": 9,
   "id": "a6b71b5a",
   "metadata": {},
   "outputs": [
    {
     "data": {
      "image/png": "[encoded data removed]",
      "text/latex": [
       "$\\displaystyle \\left[\\begin{matrix}\\frac{\\sqrt{6}}{6}\\\\- \\frac{\\sqrt{6}}{6}\\\\- \\frac{\\sqrt{6}}{6}\\\\- \\frac{\\sqrt{6}}{6}\\\\\\frac{\\sqrt{6}}{6}\\\\\\frac{\\sqrt{6}}{6}\\end{matrix}\\right]$"
      ],
      "text/plain": [
       "⎡ √6 ⎤\n",
       "⎢ ── ⎥\n",
       "⎢ 6  ⎥\n",
       "⎢    ⎥\n",
       "⎢-√6 ⎥\n",
       "⎢────⎥\n",
       "⎢ 6  ⎥\n",
       "⎢    ⎥\n",
       "⎢-√6 ⎥\n",
       "⎢────⎥\n",
       "⎢ 6  ⎥\n",
       "⎢    ⎥\n",
       "⎢-√6 ⎥\n",
       "⎢────⎥\n",
       "⎢ 6  ⎥\n",
       "⎢    ⎥\n",
       "⎢ √6 ⎥\n",
       "⎢ ── ⎥\n",
       "⎢ 6  ⎥\n",
       "⎢    ⎥\n",
       "⎢ √6 ⎥\n",
       "⎢ ── ⎥\n",
       "⎣ 6  ⎦"
      ]
     },
     "execution_count": 9,
     "metadata": {},
     "output_type": "execute_result"
    }
   ],
   "source": [
    "# Jungo tablo [1][2][3]\n",
    "Row = Re\n",
    "Col = pe - p12 - p23 - p13 + p123 + p321\n",
    "Y_alt = normalise(Row * Col)\n",
    "Y_alt"
   ]
  },
  {
   "cell_type": "markdown",
   "id": "e8cc5864",
   "metadata": {},
   "source": [
    "### Įvaizdžių konstravimas"
   ]
  },
  {
   "cell_type": "markdown",
   "id": "da4c1ece",
   "metadata": {},
   "source": [
    "Prisiminkite, kad\n",
    "\n",
    "$\n",
    "V_{\\rm R} = V_{\\rm triv} \\oplus  V_{\\rm alt} \\oplus  V_{\\rm st} \\oplus  V_{\\rm st}\n",
    "$\n",
    "\n",
    "Jungo simetrizatoriai, kuriuos sukonstravome aukščiau yra vektoriai šiuose įvaizdžiuose:\n",
    "\n",
    "- $Y_{\\rm triv} \\in V_{\\rm triv}$\n",
    "\n",
    "- $Y_{\\rm alt} \\in V_{\\rm alt}$\n",
    "\n",
    "- $Y_{\\rm st1} \\in V_{\\rm st}$ (pirmoje kopijoje)\n",
    "\n",
    "- $Y_{\\rm st2} \\in V_{\\rm st}$ (antroje kopijoje)\n",
    "\n",
    "Mums tereikia surasti likusius du vektorius pirmoje ir antroje $V_{\\rm st}$ kopijose."
   ]
  },
  {
   "cell_type": "code",
   "execution_count": 10,
   "id": "fc23cd80",
   "metadata": {},
   "outputs": [
    {
     "data": {
      "image/png": "[encoded data removed]",
      "text/latex": [
       "$\\displaystyle \\left[ \\left[\\begin{matrix}\\frac{1}{2}\\\\\\frac{1}{2}\\\\0\\\\- \\frac{1}{2}\\\\0\\\\- \\frac{1}{2}\\end{matrix}\\right], \\  \\left[\\begin{matrix}\\frac{1}{2}\\\\\\frac{1}{2}\\\\0\\\\- \\frac{1}{2}\\\\0\\\\- \\frac{1}{2}\\end{matrix}\\right], \\  \\left[\\begin{matrix}0\\\\- \\frac{1}{2}\\\\\\frac{1}{2}\\\\0\\\\- \\frac{1}{2}\\\\\\frac{1}{2}\\end{matrix}\\right], \\  \\left[\\begin{matrix}- \\frac{1}{2}\\\\0\\\\- \\frac{1}{2}\\\\\\frac{1}{2}\\\\\\frac{1}{2}\\\\0\\end{matrix}\\right], \\  \\left[\\begin{matrix}- \\frac{1}{2}\\\\0\\\\- \\frac{1}{2}\\\\\\frac{1}{2}\\\\\\frac{1}{2}\\\\0\\end{matrix}\\right], \\  \\left[\\begin{matrix}0\\\\- \\frac{1}{2}\\\\\\frac{1}{2}\\\\0\\\\- \\frac{1}{2}\\\\\\frac{1}{2}\\end{matrix}\\right]\\right]$"
      ],
      "text/plain": [
       "⎡⎡1/2 ⎤  ⎡1/2 ⎤  ⎡ 0  ⎤  ⎡-1/2⎤  ⎡-1/2⎤  ⎡ 0  ⎤⎤\n",
       "⎢⎢    ⎥  ⎢    ⎥  ⎢    ⎥  ⎢    ⎥  ⎢    ⎥  ⎢    ⎥⎥\n",
       "⎢⎢1/2 ⎥  ⎢1/2 ⎥  ⎢-1/2⎥  ⎢ 0  ⎥  ⎢ 0  ⎥  ⎢-1/2⎥⎥\n",
       "⎢⎢    ⎥  ⎢    ⎥  ⎢    ⎥  ⎢    ⎥  ⎢    ⎥  ⎢    ⎥⎥\n",
       "⎢⎢ 0  ⎥  ⎢ 0  ⎥  ⎢1/2 ⎥  ⎢-1/2⎥  ⎢-1/2⎥  ⎢1/2 ⎥⎥\n",
       "⎢⎢    ⎥, ⎢    ⎥, ⎢    ⎥, ⎢    ⎥, ⎢    ⎥, ⎢    ⎥⎥\n",
       "⎢⎢-1/2⎥  ⎢-1/2⎥  ⎢ 0  ⎥  ⎢1/2 ⎥  ⎢1/2 ⎥  ⎢ 0  ⎥⎥\n",
       "⎢⎢    ⎥  ⎢    ⎥  ⎢    ⎥  ⎢    ⎥  ⎢    ⎥  ⎢    ⎥⎥\n",
       "⎢⎢ 0  ⎥  ⎢ 0  ⎥  ⎢-1/2⎥  ⎢1/2 ⎥  ⎢1/2 ⎥  ⎢-1/2⎥⎥\n",
       "⎢⎢    ⎥  ⎢    ⎥  ⎢    ⎥  ⎢    ⎥  ⎢    ⎥  ⎢    ⎥⎥\n",
       "⎣⎣-1/2⎦  ⎣-1/2⎦  ⎣1/2 ⎦  ⎣ 0  ⎦  ⎣ 0  ⎦  ⎣1/2 ⎦⎦"
      ]
     },
     "execution_count": 10,
     "metadata": {},
     "output_type": "execute_result"
    }
   ],
   "source": [
    "# veikiame su reguliariu įvaizdžiu į vektorių Y_st1 ir gauname vektorių sarašą apvelkantį pirmą erdvę V_st\n",
    "B = []\n",
    "for R in rep_R:\n",
    "    B.append(R * Y_st1)\n",
    "B"
   ]
  },
  {
   "cell_type": "code",
   "execution_count": 11,
   "id": "dcfcfda5",
   "metadata": {},
   "outputs": [
    {
     "data": {
      "image/png": "[encoded data removed]",
      "text/latex": [
       "$\\displaystyle \\left( \\left[\\begin{matrix}1 & 1 & 0 & -1 & -1 & 0\\\\0 & 0 & 1 & -1 & -1 & 1\\\\0 & 0 & 0 & 0 & 0 & 0\\\\0 & 0 & 0 & 0 & 0 & 0\\\\0 & 0 & 0 & 0 & 0 & 0\\\\0 & 0 & 0 & 0 & 0 & 0\\end{matrix}\\right], \\  \\left( 0, \\  2\\right)\\right)$"
      ],
      "text/plain": [
       "⎛⎡1  1  0  -1  -1  0⎤        ⎞\n",
       "⎜⎢                  ⎥        ⎟\n",
       "⎜⎢0  0  1  -1  -1  1⎥        ⎟\n",
       "⎜⎢                  ⎥        ⎟\n",
       "⎜⎢0  0  0  0   0   0⎥        ⎟\n",
       "⎜⎢                  ⎥, (0, 2)⎟\n",
       "⎜⎢0  0  0  0   0   0⎥        ⎟\n",
       "⎜⎢                  ⎥        ⎟\n",
       "⎜⎢0  0  0  0   0   0⎥        ⎟\n",
       "⎜⎢                  ⎥        ⎟\n",
       "⎝⎣0  0  0  0   0   0⎦        ⎠"
      ]
     },
     "execution_count": 11,
     "metadata": {},
     "output_type": "execute_result"
    }
   ],
   "source": [
    "# Apvelkantį sąrašą paverčiame matrica\n",
    "C = sym.Matrix(np.array(B).reshape(ng,ng)).T\n",
    "# redukuota ešolono forma - iš jos matome, kad galime imti vektorius 1 ir 3 kaip tiesiškai nepriklausomus\n",
    "C.rref()"
   ]
  },
  {
   "cell_type": "code",
   "execution_count": 12,
   "id": "25a7b28b",
   "metadata": {},
   "outputs": [
    {
     "data": {
      "image/png": "[encoded data removed]",
      "text/latex": [
       "$\\displaystyle \\left[ \\left[\\begin{matrix}\\frac{1}{2}\\\\\\frac{1}{2}\\\\0\\\\- \\frac{1}{2}\\\\0\\\\- \\frac{1}{2}\\end{matrix}\\right], \\  \\left[\\begin{matrix}0\\\\- \\frac{1}{2}\\\\\\frac{1}{2}\\\\0\\\\- \\frac{1}{2}\\\\\\frac{1}{2}\\end{matrix}\\right]\\right]$"
      ],
      "text/plain": [
       "⎡⎡1/2 ⎤  ⎡ 0  ⎤⎤\n",
       "⎢⎢    ⎥  ⎢    ⎥⎥\n",
       "⎢⎢1/2 ⎥  ⎢-1/2⎥⎥\n",
       "⎢⎢    ⎥  ⎢    ⎥⎥\n",
       "⎢⎢ 0  ⎥  ⎢1/2 ⎥⎥\n",
       "⎢⎢    ⎥, ⎢    ⎥⎥\n",
       "⎢⎢-1/2⎥  ⎢ 0  ⎥⎥\n",
       "⎢⎢    ⎥  ⎢    ⎥⎥\n",
       "⎢⎢ 0  ⎥  ⎢-1/2⎥⎥\n",
       "⎢⎢    ⎥  ⎢    ⎥⎥\n",
       "⎣⎣-1/2⎦  ⎣1/2 ⎦⎦"
      ]
     },
     "execution_count": 12,
     "metadata": {},
     "output_type": "execute_result"
    }
   ],
   "source": [
    "# Pirmos erdvės V_st bazė\n",
    "B_st1 = [B[0], B[2]]\n",
    "B_st1"
   ]
  },
  {
   "cell_type": "code",
   "execution_count": 13,
   "id": "653e568e",
   "metadata": {},
   "outputs": [],
   "source": [
    "# veikiame su reguliariu įvaizdžiu į vektorių Y_st2 ir gauname vektorių sarašą apvelkantį antrą erdvę V_st\n",
    "B = []\n",
    "for R in rep_R:\n",
    "    B.append(R * Y_st2)"
   ]
  },
  {
   "cell_type": "code",
   "execution_count": 14,
   "id": "91cd6c94",
   "metadata": {},
   "outputs": [
    {
     "data": {
      "image/png": "[encoded data removed]",
      "text/latex": [
       "$\\displaystyle \\left( \\left[\\begin{matrix}1 & 0 & -1 & 1 & -1 & 0\\\\0 & 1 & -1 & 0 & -1 & 1\\\\0 & 0 & 0 & 0 & 0 & 0\\\\0 & 0 & 0 & 0 & 0 & 0\\\\0 & 0 & 0 & 0 & 0 & 0\\\\0 & 0 & 0 & 0 & 0 & 0\\end{matrix}\\right], \\  \\left( 0, \\  1\\right)\\right)$"
      ],
      "text/plain": [
       "⎛⎡1  0  -1  1  -1  0⎤        ⎞\n",
       "⎜⎢                  ⎥        ⎟\n",
       "⎜⎢0  1  -1  0  -1  1⎥        ⎟\n",
       "⎜⎢                  ⎥        ⎟\n",
       "⎜⎢0  0  0   0  0   0⎥        ⎟\n",
       "⎜⎢                  ⎥, (0, 1)⎟\n",
       "⎜⎢0  0  0   0  0   0⎥        ⎟\n",
       "⎜⎢                  ⎥        ⎟\n",
       "⎜⎢0  0  0   0  0   0⎥        ⎟\n",
       "⎜⎢                  ⎥        ⎟\n",
       "⎝⎣0  0  0   0  0   0⎦        ⎠"
      ]
     },
     "execution_count": 14,
     "metadata": {},
     "output_type": "execute_result"
    }
   ],
   "source": [
    "# Apvelkantį sąrašą paverčiame matrica\n",
    "C = sym.Matrix(np.array(B).reshape(ng,ng)).T\n",
    "# redukuota ešolono forma - iš jos matome, kad galime imti vektorius 1 ir 2 kaip tiesiškai nepriklausomus\n",
    "C.rref()"
   ]
  },
  {
   "cell_type": "code",
   "execution_count": 15,
   "id": "03d6ab81",
   "metadata": {},
   "outputs": [
    {
     "data": {
      "image/png": "[encoded data removed]",
      "text/latex": [
       "$\\displaystyle \\left[ \\left[\\begin{matrix}\\frac{1}{2}\\\\- \\frac{1}{2}\\\\0\\\\\\frac{1}{2}\\\\- \\frac{1}{2}\\\\0\\end{matrix}\\right], \\  \\left[\\begin{matrix}- \\frac{1}{2}\\\\\\frac{1}{2}\\\\- \\frac{1}{2}\\\\0\\\\0\\\\\\frac{1}{2}\\end{matrix}\\right]\\right]$"
      ],
      "text/plain": [
       "⎡⎡1/2 ⎤  ⎡-1/2⎤⎤\n",
       "⎢⎢    ⎥  ⎢    ⎥⎥\n",
       "⎢⎢-1/2⎥  ⎢1/2 ⎥⎥\n",
       "⎢⎢    ⎥  ⎢    ⎥⎥\n",
       "⎢⎢ 0  ⎥  ⎢-1/2⎥⎥\n",
       "⎢⎢    ⎥, ⎢    ⎥⎥\n",
       "⎢⎢1/2 ⎥  ⎢ 0  ⎥⎥\n",
       "⎢⎢    ⎥  ⎢    ⎥⎥\n",
       "⎢⎢-1/2⎥  ⎢ 0  ⎥⎥\n",
       "⎢⎢    ⎥  ⎢    ⎥⎥\n",
       "⎣⎣ 0  ⎦  ⎣1/2 ⎦⎦"
      ]
     },
     "execution_count": 15,
     "metadata": {},
     "output_type": "execute_result"
    }
   ],
   "source": [
    "# Antros erdvės V_st bazė\n",
    "B_st2 = [B[0], B[1]]\n",
    "B_st2"
   ]
  },
  {
   "cell_type": "markdown",
   "id": "89f9188d",
   "metadata": {},
   "source": [
    "### Reguliaraus įvaizdžio blok-diagonalizavimas"
   ]
  },
  {
   "cell_type": "markdown",
   "id": "ce96cac0",
   "metadata": {},
   "source": [
    "Atlikę aukščiau aprašytus veiksmus suradome bazę, kurioje reguliarus įvaizdis yra blok-diagonalus:\n",
    "\n",
    "``\n",
    "Nauja bazė = [ Y_triv, Y_alt, B_st1[0], B_st1[1], B_st2[0], B_st2[1] ]\n",
    "``"
   ]
  },
  {
   "cell_type": "code",
   "execution_count": 16,
   "id": "38077ab7",
   "metadata": {},
   "outputs": [
    {
     "data": {
      "image/png": "[encoded data removed]",
      "text/latex": [
       "$\\displaystyle \\left[ \\left[\\begin{matrix}\\frac{\\sqrt{6}}{6}\\\\\\frac{\\sqrt{6}}{6}\\\\\\frac{\\sqrt{6}}{6}\\\\\\frac{\\sqrt{6}}{6}\\\\\\frac{\\sqrt{6}}{6}\\\\\\frac{\\sqrt{6}}{6}\\end{matrix}\\right], \\  \\left[\\begin{matrix}\\frac{\\sqrt{6}}{6}\\\\- \\frac{\\sqrt{6}}{6}\\\\- \\frac{\\sqrt{6}}{6}\\\\- \\frac{\\sqrt{6}}{6}\\\\\\frac{\\sqrt{6}}{6}\\\\\\frac{\\sqrt{6}}{6}\\end{matrix}\\right], \\  \\left[\\begin{matrix}\\frac{1}{2}\\\\\\frac{1}{2}\\\\0\\\\- \\frac{1}{2}\\\\0\\\\- \\frac{1}{2}\\end{matrix}\\right], \\  \\left[\\begin{matrix}0\\\\- \\frac{1}{2}\\\\\\frac{1}{2}\\\\0\\\\- \\frac{1}{2}\\\\\\frac{1}{2}\\end{matrix}\\right], \\  \\left[\\begin{matrix}\\frac{1}{2}\\\\- \\frac{1}{2}\\\\0\\\\\\frac{1}{2}\\\\- \\frac{1}{2}\\\\0\\end{matrix}\\right], \\  \\left[\\begin{matrix}- \\frac{1}{2}\\\\\\frac{1}{2}\\\\- \\frac{1}{2}\\\\0\\\\0\\\\\\frac{1}{2}\\end{matrix}\\right]\\right]$"
      ],
      "text/plain": [
       "⎡⎡√6⎤  ⎡ √6 ⎤                                ⎤\n",
       "⎢⎢──⎥  ⎢ ── ⎥                                ⎥\n",
       "⎢⎢6 ⎥  ⎢ 6  ⎥                                ⎥\n",
       "⎢⎢  ⎥  ⎢    ⎥                                ⎥\n",
       "⎢⎢√6⎥  ⎢-√6 ⎥                                ⎥\n",
       "⎢⎢──⎥  ⎢────⎥                                ⎥\n",
       "⎢⎢6 ⎥  ⎢ 6  ⎥  ⎡1/2 ⎤  ⎡ 0  ⎤  ⎡1/2 ⎤  ⎡-1/2⎤⎥\n",
       "⎢⎢  ⎥  ⎢    ⎥  ⎢    ⎥  ⎢    ⎥  ⎢    ⎥  ⎢    ⎥⎥\n",
       "⎢⎢√6⎥  ⎢-√6 ⎥  ⎢1/2 ⎥  ⎢-1/2⎥  ⎢-1/2⎥  ⎢1/2 ⎥⎥\n",
       "⎢⎢──⎥  ⎢────⎥  ⎢    ⎥  ⎢    ⎥  ⎢    ⎥  ⎢    ⎥⎥\n",
       "⎢⎢6 ⎥  ⎢ 6  ⎥  ⎢ 0  ⎥  ⎢1/2 ⎥  ⎢ 0  ⎥  ⎢-1/2⎥⎥\n",
       "⎢⎢  ⎥, ⎢    ⎥, ⎢    ⎥, ⎢    ⎥, ⎢    ⎥, ⎢    ⎥⎥\n",
       "⎢⎢√6⎥  ⎢-√6 ⎥  ⎢-1/2⎥  ⎢ 0  ⎥  ⎢1/2 ⎥  ⎢ 0  ⎥⎥\n",
       "⎢⎢──⎥  ⎢────⎥  ⎢    ⎥  ⎢    ⎥  ⎢    ⎥  ⎢    ⎥⎥\n",
       "⎢⎢6 ⎥  ⎢ 6  ⎥  ⎢ 0  ⎥  ⎢-1/2⎥  ⎢-1/2⎥  ⎢ 0  ⎥⎥\n",
       "⎢⎢  ⎥  ⎢    ⎥  ⎢    ⎥  ⎢    ⎥  ⎢    ⎥  ⎢    ⎥⎥\n",
       "⎢⎢√6⎥  ⎢ √6 ⎥  ⎣-1/2⎦  ⎣1/2 ⎦  ⎣ 0  ⎦  ⎣1/2 ⎦⎥\n",
       "⎢⎢──⎥  ⎢ ── ⎥                                ⎥\n",
       "⎢⎢6 ⎥  ⎢ 6  ⎥                                ⎥\n",
       "⎢⎢  ⎥  ⎢    ⎥                                ⎥\n",
       "⎢⎢√6⎥  ⎢ √6 ⎥                                ⎥\n",
       "⎢⎢──⎥  ⎢ ── ⎥                                ⎥\n",
       "⎣⎣6 ⎦  ⎣ 6  ⎦                                ⎦"
      ]
     },
     "execution_count": 16,
     "metadata": {},
     "output_type": "execute_result"
    }
   ],
   "source": [
    "# Nauja reguliaraus įvaizdžio bazė\n",
    "new_basis = [Y_triv, Y_alt] + B_st1 + B_st2\n",
    "new_basis"
   ]
  },
  {
   "cell_type": "code",
   "execution_count": 17,
   "id": "105884f1",
   "metadata": {},
   "outputs": [
    {
     "data": {
      "image/png": "[encoded data removed]",
      "text/latex": [
       "$\\displaystyle \\left[\\begin{matrix}\\frac{\\sqrt{6}}{6} & \\frac{\\sqrt{6}}{6} & \\frac{1}{2} & 0 & \\frac{1}{2} & - \\frac{1}{2}\\\\\\frac{\\sqrt{6}}{6} & - \\frac{\\sqrt{6}}{6} & \\frac{1}{2} & - \\frac{1}{2} & - \\frac{1}{2} & \\frac{1}{2}\\\\\\frac{\\sqrt{6}}{6} & - \\frac{\\sqrt{6}}{6} & 0 & \\frac{1}{2} & 0 & - \\frac{1}{2}\\\\\\frac{\\sqrt{6}}{6} & - \\frac{\\sqrt{6}}{6} & - \\frac{1}{2} & 0 & \\frac{1}{2} & 0\\\\\\frac{\\sqrt{6}}{6} & \\frac{\\sqrt{6}}{6} & 0 & - \\frac{1}{2} & - \\frac{1}{2} & 0\\\\\\frac{\\sqrt{6}}{6} & \\frac{\\sqrt{6}}{6} & - \\frac{1}{2} & \\frac{1}{2} & 0 & \\frac{1}{2}\\end{matrix}\\right]$"
      ],
      "text/plain": [
       "⎡√6   √6                         ⎤\n",
       "⎢──   ──   1/2    0    1/2   -1/2⎥\n",
       "⎢6    6                          ⎥\n",
       "⎢                                ⎥\n",
       "⎢√6  -√6                         ⎥\n",
       "⎢──  ────  1/2   -1/2  -1/2  1/2 ⎥\n",
       "⎢6    6                          ⎥\n",
       "⎢                                ⎥\n",
       "⎢√6  -√6                         ⎥\n",
       "⎢──  ────   0    1/2    0    -1/2⎥\n",
       "⎢6    6                          ⎥\n",
       "⎢                                ⎥\n",
       "⎢√6  -√6                         ⎥\n",
       "⎢──  ────  -1/2   0    1/2    0  ⎥\n",
       "⎢6    6                          ⎥\n",
       "⎢                                ⎥\n",
       "⎢√6   √6                         ⎥\n",
       "⎢──   ──    0    -1/2  -1/2   0  ⎥\n",
       "⎢6    6                          ⎥\n",
       "⎢                                ⎥\n",
       "⎢√6   √6                         ⎥\n",
       "⎢──   ──   -1/2  1/2    0    1/2 ⎥\n",
       "⎣6    6                          ⎦"
      ]
     },
     "execution_count": 17,
     "metadata": {},
     "output_type": "execute_result"
    }
   ],
   "source": [
    "# Naują bazę paverčiame matrica\n",
    "C = sym.Matrix(np.array(new_basis).reshape(ng,ng)).T\n",
    "C"
   ]
  },
  {
   "cell_type": "code",
   "execution_count": 18,
   "id": "4df37648",
   "metadata": {},
   "outputs": [
    {
     "data": {
      "image/png": "[encoded data removed]",
      "text/latex": [
       "$\\displaystyle \\left[ \\left[\\begin{matrix}1 & 0 & 0 & 0 & 0 & 0\\\\0 & 1 & 0 & 0 & 0 & 0\\\\0 & 0 & 1 & 0 & 0 & 0\\\\0 & 0 & 0 & 1 & 0 & 0\\\\0 & 0 & 0 & 0 & 1 & 0\\\\0 & 0 & 0 & 0 & 0 & 1\\end{matrix}\\right], \\  \\left[\\begin{matrix}1 & 0 & 0 & 0 & 0 & 0\\\\0 & -1 & 0 & 0 & 0 & 0\\\\0 & 0 & 1 & -1 & 0 & 0\\\\0 & 0 & 0 & -1 & 0 & 0\\\\0 & 0 & 0 & 0 & 0 & 1\\\\0 & 0 & 0 & 0 & 1 & 0\\end{matrix}\\right], \\  \\left[\\begin{matrix}1 & 0 & 0 & 0 & 0 & 0\\\\0 & -1 & 0 & 0 & 0 & 0\\\\0 & 0 & 0 & 1 & 0 & 0\\\\0 & 0 & 1 & 0 & 0 & 0\\\\0 & 0 & 0 & 0 & -1 & 0\\\\0 & 0 & 0 & 0 & -1 & 1\\end{matrix}\\right], \\  \\left[\\begin{matrix}1 & 0 & 0 & 0 & 0 & 0\\\\0 & -1 & 0 & 0 & 0 & 0\\\\0 & 0 & -1 & 0 & 0 & 0\\\\0 & 0 & -1 & 1 & 0 & 0\\\\0 & 0 & 0 & 0 & 1 & -1\\\\0 & 0 & 0 & 0 & 0 & -1\\end{matrix}\\right], \\  \\left[\\begin{matrix}1 & 0 & 0 & 0 & 0 & 0\\\\0 & 1 & 0 & 0 & 0 & 0\\\\0 & 0 & -1 & 1 & 0 & 0\\\\0 & 0 & -1 & 0 & 0 & 0\\\\0 & 0 & 0 & 0 & -1 & 1\\\\0 & 0 & 0 & 0 & -1 & 0\\end{matrix}\\right], \\  \\left[\\begin{matrix}1 & 0 & 0 & 0 & 0 & 0\\\\0 & 1 & 0 & 0 & 0 & 0\\\\0 & 0 & 0 & -1 & 0 & 0\\\\0 & 0 & 1 & -1 & 0 & 0\\\\0 & 0 & 0 & 0 & 0 & -1\\\\0 & 0 & 0 & 0 & 1 & -1\\end{matrix}\\right]\\right]$"
      ],
      "text/plain": [
       "⎡⎡1  0  0  0  0  0⎤  ⎡1  0   0  0   0  0⎤  ⎡1  0   0  0  0   0⎤  ⎡1  0   0   0\n",
       "⎢⎢                ⎥  ⎢                  ⎥  ⎢                  ⎥  ⎢            \n",
       "⎢⎢0  1  0  0  0  0⎥  ⎢0  -1  0  0   0  0⎥  ⎢0  -1  0  0  0   0⎥  ⎢0  -1  0   0\n",
       "⎢⎢                ⎥  ⎢                  ⎥  ⎢                  ⎥  ⎢            \n",
       "⎢⎢0  0  1  0  0  0⎥  ⎢0  0   1  -1  0  0⎥  ⎢0  0   0  1  0   0⎥  ⎢0  0   -1  0\n",
       "⎢⎢                ⎥, ⎢                  ⎥, ⎢                  ⎥, ⎢            \n",
       "⎢⎢0  0  0  1  0  0⎥  ⎢0  0   0  -1  0  0⎥  ⎢0  0   1  0  0   0⎥  ⎢0  0   -1  1\n",
       "⎢⎢                ⎥  ⎢                  ⎥  ⎢                  ⎥  ⎢            \n",
       "⎢⎢0  0  0  0  1  0⎥  ⎢0  0   0  0   0  1⎥  ⎢0  0   0  0  -1  0⎥  ⎢0  0   0   0\n",
       "⎢⎢                ⎥  ⎢                  ⎥  ⎢                  ⎥  ⎢            \n",
       "⎣⎣0  0  0  0  0  1⎦  ⎣0  0   0  0   1  0⎦  ⎣0  0   0  0  -1  1⎦  ⎣0  0   0   0\n",
       "\n",
       "  0  0 ⎤  ⎡1  0  0   0  0   0⎤  ⎡1  0  0  0   0  0 ⎤⎤\n",
       "       ⎥  ⎢                  ⎥  ⎢                  ⎥⎥\n",
       "  0  0 ⎥  ⎢0  1  0   0  0   0⎥  ⎢0  1  0  0   0  0 ⎥⎥\n",
       "       ⎥  ⎢                  ⎥  ⎢                  ⎥⎥\n",
       "  0  0 ⎥  ⎢0  0  -1  1  0   0⎥  ⎢0  0  0  -1  0  0 ⎥⎥\n",
       "       ⎥, ⎢                  ⎥, ⎢                  ⎥⎥\n",
       "  0  0 ⎥  ⎢0  0  -1  0  0   0⎥  ⎢0  0  1  -1  0  0 ⎥⎥\n",
       "       ⎥  ⎢                  ⎥  ⎢                  ⎥⎥\n",
       "  1  -1⎥  ⎢0  0  0   0  -1  1⎥  ⎢0  0  0  0   0  -1⎥⎥\n",
       "       ⎥  ⎢                  ⎥  ⎢                  ⎥⎥\n",
       "  0  -1⎦  ⎣0  0  0   0  -1  0⎦  ⎣0  0  0  0   1  -1⎦⎦"
      ]
     },
     "execution_count": 18,
     "metadata": {},
     "output_type": "execute_result"
    }
   ],
   "source": [
    "# Blok-diagonalizavimas\n",
    "rep_R_bd = []\n",
    "for i in range(6):\n",
    "    rep_R_bd.append(C.inv()*rep_R[i]*C)\n",
    "rep_R_bd"
   ]
  },
  {
   "cell_type": "markdown",
   "id": "fadaa0ea",
   "metadata": {},
   "source": [
    "Gautas įvaizdis nėra unitarus. Mums reikia surasti panašumo transformacią, kuri unitarizuotų šį įvaizdį."
   ]
  },
  {
   "cell_type": "markdown",
   "id": "ceb9656f",
   "metadata": {},
   "source": [
    "### Įvaizdžio unitarizavimas"
   ]
  },
  {
   "cell_type": "markdown",
   "id": "4f57fa24",
   "metadata": {},
   "source": [
    "Unitarizavimo procedūra:\n",
    "\n",
    "$\n",
    "\\rho_V(g) \\mapsto S \\rho_V(g) S^{-1}\n",
    "$\n",
    "\n",
    "kur\n",
    "\n",
    "$\n",
    "S = \\sqrt{\\sum_{g \\in G} \\rho_V(g)^\\dagger \\rho_V(g)} \n",
    "$\n",
    "\n",
    "Matricos kėlimas laipsniu:\n",
    "\n",
    "$\n",
    "M^a = P D^a P^{-1}\n",
    "$\n",
    "\n",
    "kur $D$ yra diagonali tikrinių verčių matrica, o $P$ - diagonalizavimo matrica."
   ]
  },
  {
   "cell_type": "code",
   "execution_count": 19,
   "id": "0651177f",
   "metadata": {
    "code_folding": []
   },
   "outputs": [],
   "source": [
    "# Apibrėžiame funkciją, kur suranda matricos šaknį\n",
    "def matrix_sqrt(M):\n",
    "    P, D = M.diagonalize()\n",
    "    for i in range(D.shape[0]):\n",
    "        D[i,i] = sym.sqrt(D[i,i])\n",
    "    return P * D * P.inv()"
   ]
  },
  {
   "cell_type": "code",
   "execution_count": 20,
   "id": "5345190d",
   "metadata": {},
   "outputs": [],
   "source": [
    "# Ermitinis jungtinumas\n",
    "from sympy.physics.quantum import Dagger"
   ]
  },
  {
   "cell_type": "code",
   "execution_count": 21,
   "id": "ebdfeb41",
   "metadata": {},
   "outputs": [],
   "source": [
    "# Surandame unitarizavimo matricą\n",
    "S = sym.zeros(6)\n",
    "for R in rep_R_bd:\n",
    "    S += Dagger(R) * R\n",
    "S = matrix_sqrt(S)"
   ]
  },
  {
   "cell_type": "code",
   "execution_count": 23,
   "id": "2c211ec9",
   "metadata": {},
   "outputs": [
    {
     "data": {
      "image/png": "[encoded data removed]",
      "text/latex": [
       "$\\displaystyle \\left[ \\left[\\begin{matrix}1 & 0 & 0 & 0 & 0 & 0\\\\0 & 1 & 0 & 0 & 0 & 0\\\\0 & 0 & 1 & 0 & 0 & 0\\\\0 & 0 & 0 & 1 & 0 & 0\\\\0 & 0 & 0 & 0 & 1 & 0\\\\0 & 0 & 0 & 0 & 0 & 1\\end{matrix}\\right], \\  \\left[\\begin{matrix}1 & 0 & 0 & 0 & 0 & 0\\\\0 & -1 & 0 & 0 & 0 & 0\\\\0 & 0 & \\frac{\\sqrt{3}}{2} & - \\frac{1}{2} & 0 & 0\\\\0 & 0 & - \\frac{1}{2} & - \\frac{\\sqrt{3}}{2} & 0 & 0\\\\0 & 0 & 0 & 0 & 0 & 1\\\\0 & 0 & 0 & 0 & 1 & 0\\end{matrix}\\right], \\  \\left[\\begin{matrix}1 & 0 & 0 & 0 & 0 & 0\\\\0 & -1 & 0 & 0 & 0 & 0\\\\0 & 0 & 0 & 1 & 0 & 0\\\\0 & 0 & 1 & 0 & 0 & 0\\\\0 & 0 & 0 & 0 & - \\frac{\\sqrt{3}}{2} & - \\frac{1}{2}\\\\0 & 0 & 0 & 0 & - \\frac{1}{2} & \\frac{\\sqrt{3}}{2}\\end{matrix}\\right], \\  \\left[\\begin{matrix}1 & 0 & 0 & 0 & 0 & 0\\\\0 & -1 & 0 & 0 & 0 & 0\\\\0 & 0 & - \\frac{\\sqrt{3}}{2} & - \\frac{1}{2} & 0 & 0\\\\0 & 0 & - \\frac{1}{2} & \\frac{\\sqrt{3}}{2} & 0 & 0\\\\0 & 0 & 0 & 0 & \\frac{\\sqrt{3}}{2} & - \\frac{1}{2}\\\\0 & 0 & 0 & 0 & - \\frac{1}{2} & - \\frac{\\sqrt{3}}{2}\\end{matrix}\\right], \\  \\left[\\begin{matrix}1 & 0 & 0 & 0 & 0 & 0\\\\0 & 1 & 0 & 0 & 0 & 0\\\\0 & 0 & - \\frac{1}{2} & \\frac{\\sqrt{3}}{2} & 0 & 0\\\\0 & 0 & - \\frac{\\sqrt{3}}{2} & - \\frac{1}{2} & 0 & 0\\\\0 & 0 & 0 & 0 & - \\frac{1}{2} & \\frac{\\sqrt{3}}{2}\\\\0 & 0 & 0 & 0 & - \\frac{\\sqrt{3}}{2} & - \\frac{1}{2}\\end{matrix}\\right], \\  \\left[\\begin{matrix}1 & 0 & 0 & 0 & 0 & 0\\\\0 & 1 & 0 & 0 & 0 & 0\\\\0 & 0 & - \\frac{1}{2} & - \\frac{\\sqrt{3}}{2} & 0 & 0\\\\0 & 0 & \\frac{\\sqrt{3}}{2} & - \\frac{1}{2} & 0 & 0\\\\0 & 0 & 0 & 0 & - \\frac{1}{2} & - \\frac{\\sqrt{3}}{2}\\\\0 & 0 & 0 & 0 & \\frac{\\sqrt{3}}{2} & - \\frac{1}{2}\\end{matrix}\\right]\\right]$"
      ],
      "text/plain": [
       "⎡                                                                          ⎡1 \n",
       "⎢                                                                          ⎢  \n",
       "⎢                    ⎡1  0    0     0    0  0⎤  ⎡1  0   0  0   0     0  ⎤  ⎢0 \n",
       "⎢                    ⎢                       ⎥  ⎢                       ⎥  ⎢  \n",
       "⎢⎡1  0  0  0  0  0⎤  ⎢0  -1   0     0    0  0⎥  ⎢0  -1  0  0   0     0  ⎥  ⎢  \n",
       "⎢⎢                ⎥  ⎢                       ⎥  ⎢                       ⎥  ⎢0 \n",
       "⎢⎢0  1  0  0  0  0⎥  ⎢        √3             ⎥  ⎢0  0   0  1   0     0  ⎥  ⎢  \n",
       "⎢⎢                ⎥  ⎢0  0    ──   -1/2  0  0⎥  ⎢                       ⎥  ⎢  \n",
       "⎢⎢0  0  1  0  0  0⎥  ⎢        2              ⎥  ⎢0  0   1  0   0     0  ⎥  ⎢  \n",
       "⎢⎢                ⎥, ⎢                       ⎥, ⎢                       ⎥, ⎢0 \n",
       "⎢⎢0  0  0  1  0  0⎥  ⎢             -√3       ⎥  ⎢             -√3       ⎥  ⎢  \n",
       "⎢⎢                ⎥  ⎢0  0   -1/2  ────  0  0⎥  ⎢0  0   0  0  ────  -1/2⎥  ⎢  \n",
       "⎢⎢0  0  0  0  1  0⎥  ⎢              2        ⎥  ⎢              2        ⎥  ⎢  \n",
       "⎢⎢                ⎥  ⎢                       ⎥  ⎢                       ⎥  ⎢0 \n",
       "⎢⎣0  0  0  0  0  1⎦  ⎢0  0    0     0    0  1⎥  ⎢                    √3 ⎥  ⎢  \n",
       "⎢                    ⎢                       ⎥  ⎢0  0   0  0  -1/2   ── ⎥  ⎢  \n",
       "⎢                    ⎣0  0    0     0    1  0⎦  ⎣                    2  ⎦  ⎢  \n",
       "⎢                                                                          ⎢0 \n",
       "⎣                                                                          ⎣  \n",
       "\n",
       " 0    0     0     0     0  ⎤  ⎡1  0   0     0     0     0  ⎤  ⎡1  0   0     0 \n",
       "                           ⎥  ⎢                            ⎥  ⎢               \n",
       " -1   0     0     0     0  ⎥  ⎢0  1   0     0     0     0  ⎥  ⎢0  1   0     0 \n",
       "                           ⎥  ⎢                            ⎥  ⎢               \n",
       "     -√3                   ⎥  ⎢             √3             ⎥  ⎢            -√3\n",
       " 0   ────  -1/2   0     0  ⎥  ⎢0  0  -1/2   ──    0     0  ⎥  ⎢0  0  -1/2  ───\n",
       "      2                    ⎥  ⎢             2              ⎥  ⎢             2 \n",
       "                           ⎥  ⎢                            ⎥  ⎢               \n",
       "            √3             ⎥  ⎢      -√3                   ⎥  ⎢       √3      \n",
       " 0   -1/2   ──    0     0  ⎥, ⎢0  0  ────  -1/2   0     0  ⎥, ⎢0  0   ──   -1/\n",
       "            2              ⎥  ⎢       2                    ⎥  ⎢       2       \n",
       "                           ⎥  ⎢                            ⎥  ⎢               \n",
       "                  √3       ⎥  ⎢                         √3 ⎥  ⎢               \n",
       " 0    0     0     ──   -1/2⎥  ⎢0  0   0     0    -1/2   ── ⎥  ⎢0  0   0     0 \n",
       "                  2        ⎥  ⎢                         2  ⎥  ⎢               \n",
       "                           ⎥  ⎢                            ⎥  ⎢               \n",
       "                       -√3 ⎥  ⎢                  -√3       ⎥  ⎢               \n",
       " 0    0     0    -1/2  ────⎥  ⎢0  0   0     0    ────  -1/2⎥  ⎢0  0   0     0 \n",
       "                        2  ⎦  ⎣                   2        ⎦  ⎣               \n",
       "\n",
       "    0     0  ⎤⎤\n",
       "             ⎥⎥\n",
       "    0     0  ⎥⎥\n",
       "             ⎥⎥\n",
       "             ⎥⎥\n",
       "─   0     0  ⎥⎥\n",
       "             ⎥⎥\n",
       "             ⎥⎥\n",
       "             ⎥⎥\n",
       "2   0     0  ⎥⎥\n",
       "             ⎥⎥\n",
       "             ⎥⎥\n",
       "         -√3 ⎥⎥\n",
       "   -1/2  ────⎥⎥\n",
       "          2  ⎥⎥\n",
       "             ⎥⎥\n",
       "    √3       ⎥⎥\n",
       "    ──   -1/2⎥⎥\n",
       "    2        ⎦⎦"
      ]
     },
     "execution_count": 23,
     "metadata": {},
     "output_type": "execute_result"
    }
   ],
   "source": [
    "# Įvaizdžio unitarizavimas\n",
    "rep_R_bdu = []\n",
    "for i in range(6):\n",
    "    rep_R_bdu.append(sym.simplify(S*rep_R_bd[i]*S.inv()))\n",
    "rep_R_bdu"
   ]
  }
 ],
 "metadata": {
  "kernelspec": {
   "display_name": "Python 3 (ipykernel)",
   "language": "python",
   "name": "python3"
  },
  "language_info": {
   "codemirror_mode": {
    "name": "ipython",
    "version": 3
   },
   "file_extension": ".py",
   "mimetype": "text/x-python",
   "name": "python",
   "nbconvert_exporter": "python",
   "pygments_lexer": "ipython3",
   "version": "3.9.13"
  },
  "latex_envs": {
   "LaTeX_envs_menu_present": true,
   "autoclose": false,
   "autocomplete": true,
   "bibliofile": "biblio.bib",
   "cite_by": "apalike",
   "current_citInitial": 1,
   "eqLabelWithNumbers": true,
   "eqNumInitial": 1,
   "hotkeys": {
    "equation": "Ctrl-E",
    "itemize": "Ctrl-I"
   },
   "labels_anchors": false,
   "latex_user_defs": false,
   "report_style_numbering": false,
   "user_envs_cfg": false
  }
 },
 "nbformat": 4,
 "nbformat_minor": 5
}
