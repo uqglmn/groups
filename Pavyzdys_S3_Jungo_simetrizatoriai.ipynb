{
 "cells": [
  {
   "cell_type": "markdown",
   "id": "89f4d37e",
   "metadata": {},
   "source": [
    "## Jungo simetrizatorių pavyzdys"
   ]
  },
  {
   "cell_type": "markdown",
   "id": "4ff91a03",
   "metadata": {},
   "source": [
    "<a href=\"https://colab.research.google.com/github/uqglmn/groups/blob/main/Pavyzdys_S3_Jungo_simetrizatoriai.ipynb\" target=\"_parent\"><img src=\"https://colab.research.google.com/assets/colab-badge.svg\" alt=\"Open In Colab\"/></a>"
   ]
  },
  {
   "cell_type": "markdown",
   "id": "dcf46292",
   "metadata": {},
   "source": [
    "Šiame pavyzdyje Jungo simetrizatorių pagalba blok-diagonalizuosime reguliarų $S_3$ įvaizdį. To pasekoje sukonstruosime visus neredukuojamus $S_3$ įvaizdžius.\n",
    "\n",
    "**Pastaba.** Šis pavyzdys tik iš dalies iliustruoja įvaizdžių konstravimo procedūrą Jungo simetrizatorių pagalba, nes SymPy neturi kai kurių simbolinės algebros realizacijos galimybių."
   ]
  },
  {
   "cell_type": "code",
   "execution_count": 1,
   "id": "4d972ac3",
   "metadata": {},
   "outputs": [],
   "source": [
    "# Bibliotekos\n",
    "import sympy as sym\n",
    "import numpy as np\n",
    "\n",
    "# Kronekerio delta\n",
    "from sympy.functions.special.tensor_functions import KroneckerDelta as delta\n",
    "from sympy.matrices.expressions import trace\n",
    "\n",
    "# Renderinimo nustatymas\n",
    "sym.init_printing(use_unicode=True)"
   ]
  },
  {
   "cell_type": "code",
   "execution_count": 2,
   "id": "a613d8ba",
   "metadata": {},
   "outputs": [],
   "source": [
    "# Grupės S3 eilė\n",
    "ng = 6"
   ]
  },
  {
   "cell_type": "code",
   "execution_count": 3,
   "id": "c46b2333",
   "metadata": {},
   "outputs": [],
   "source": [
    "# funkcija vektorių normavimui\n",
    "def normalise(v):\n",
    "    n = 1/sym.sqrt((v.T * v)[0])\n",
    "    return n*v"
   ]
  },
  {
   "cell_type": "markdown",
   "id": "ac0af5f7",
   "metadata": {},
   "source": [
    "### Reguliarusis įvaizdis"
   ]
  },
  {
   "cell_type": "code",
   "execution_count": 4,
   "id": "6aad6ece",
   "metadata": {},
   "outputs": [],
   "source": [
    "# Grupės S3 algebros bazė\n",
    "pe   = sym.Matrix([[1,0,0,0,0,0]]).T\n",
    "p12  = sym.Matrix([[0,1,0,0,0,0]]).T\n",
    "p23  = sym.Matrix([[0,0,1,0,0,0]]).T\n",
    "p13  = sym.Matrix([[0,0,0,1,0,0]]).T\n",
    "p123 = sym.Matrix([[0,0,0,0,1,0]]).T\n",
    "p321 = sym.Matrix([[0,0,0,0,0,1]]).T\n",
    "\n",
    "basis = [pe, p12, p23, p13, p123, p321]"
   ]
  },
  {
   "cell_type": "code",
   "execution_count": 5,
   "id": "b0af5191",
   "metadata": {},
   "outputs": [],
   "source": [
    "# Reguliarus matricinis ivaizdis\n",
    "Re   = sym.Matrix([[1,0,0,0,0,0],[0,1,0,0,0,0],[0,0,1,0,0,0],[0,0,0,1,0,0],[0,0,0,0,1,0],[0,0,0,0,0,1]])\n",
    "R12  = sym.Matrix([[0,1,0,0,0,0],[1,0,0,0,0,0],[0,0,0,0,1,0],[0,0,0,0,0,1],[0,0,1,0,0,0],[0,0,0,1,0,0]])\n",
    "R23  = sym.Matrix([[0,0,1,0,0,0],[0,0,0,0,0,1],[1,0,0,0,0,0],[0,0,0,0,1,0],[0,0,0,1,0,0],[0,1,0,0,0,0]])\n",
    "R13  = sym.Matrix([[0,0,0,1,0,0],[0,0,0,0,1,0],[0,0,0,0,0,1],[1,0,0,0,0,0],[0,1,0,0,0,0],[0,0,1,0,0,0]])\n",
    "R123 = sym.Matrix([[0,0,0,0,0,1],[0,0,1,0,0,0],[0,0,0,1,0,0],[0,1,0,0,0,0],[1,0,0,0,0,0],[0,0,0,0,1,0]])\n",
    "R321 = sym.Matrix([[0,0,0,0,1,0],[0,0,0,1,0,0],[0,1,0,0,0,0],[0,0,1,0,0,0],[0,0,0,0,0,1],[1,0,0,0,0,0]])\n",
    "\n",
    "rep_R = [Re, R12, R23, R13, R123, R321]"
   ]
  },
  {
   "cell_type": "markdown",
   "id": "4ec2fc33",
   "metadata": {},
   "source": [
    "### Jungo simetrizatoriai"
   ]
  },
  {
   "cell_type": "markdown",
   "id": "6f8ccbb3",
   "metadata": {},
   "source": [
    "Grupė $S_3$ turi tris Jungo diagramas žymimas skirstiniais (3), (2,1) ir (1,1,1)\n",
    "\n",
    "- Jungo diagrama (3) turi vieną standartinį tablo: [1,2,3]. Jis atitinka trivialų įvaizdį.\n",
    "- Jungo diagrama (2,1) turi du standartinius tablo: [1,2][3] ir [1,3][2]. Jie atitinka standartinį įvaizdį.\n",
    "- Jungo diagrama (1,1,1) turi vieną standartinį tablo: [1][2][3]. Jis atitinka alternuojantį įvaizdį.\n",
    "\n",
    "Jungo simetrizatoriai:\n",
    "\n",
    "$\n",
    "Y_\\Lambda = P_\\Lambda Q_\\Lambda\n",
    "$\n",
    "\n",
    "kur $P_\\Lambda = \\sum_{p \\in R_{\\Lambda}} p$ ir $Q_\\Lambda = \\sum_{p \\in C_{\\Lambda}} (-1)^p p$ yra eilučių ir stulpelių simetrizatoriai."
   ]
  },
  {
   "cell_type": "markdown",
   "id": "e1c6e263",
   "metadata": {},
   "source": [
    "#### Jungo simetrizatoriai kaip vektoriai-stulpeliai"
   ]
  },
  {
   "cell_type": "markdown",
   "id": "0f96b259",
   "metadata": {},
   "source": [
    "Ši Jungo simetrizatorių forma yra patogi mūsų keliamam tikslui, reguliaraus įvaizdžio blok-diagonalizavimui. "
   ]
  },
  {
   "cell_type": "code",
   "execution_count": 6,
   "id": "538ee9f2",
   "metadata": {},
   "outputs": [],
   "source": [
    "# Jungo tablo [1,2,3]\n",
    "Row = Re + R12 + R23 + R13 + R123 + R321\n",
    "Col = pe\n",
    "Y_triv = sym.Rational(1,6) * Row * Col"
   ]
  },
  {
   "cell_type": "code",
   "execution_count": 7,
   "id": "5cd10fa9",
   "metadata": {},
   "outputs": [],
   "source": [
    "# Jungo tablo [1,2][3]\n",
    "Row = Re + R12\n",
    "Col = pe - p13\n",
    "Y_st_1 = sym.Rational(2,6) * Row * Col"
   ]
  },
  {
   "cell_type": "code",
   "execution_count": 8,
   "id": "f8b97034",
   "metadata": {},
   "outputs": [],
   "source": [
    "# Jungo tablo [1,3][2]\n",
    "Row = Re + R13\n",
    "Col = pe - p12\n",
    "Y_st_2 = sym.Rational(2,6) * Row * Col"
   ]
  },
  {
   "cell_type": "code",
   "execution_count": 9,
   "id": "a6b71b5a",
   "metadata": {},
   "outputs": [],
   "source": [
    "# Jungo tablo [1][2][3]\n",
    "Row = Re\n",
    "Col = pe - p12 - p23 - p13 + p123 + p321\n",
    "Y_alt = sym.Rational(1,6) * Row * Col"
   ]
  },
  {
   "cell_type": "code",
   "execution_count": 10,
   "id": "4846182e",
   "metadata": {},
   "outputs": [
    {
     "data": {
      "image/png": "[encoded data removed]",
      "text/latex": [
       "$\\displaystyle \\left[ \\left[\\begin{matrix}\\frac{1}{6}\\\\\\frac{1}{6}\\\\\\frac{1}{6}\\\\\\frac{1}{6}\\\\\\frac{1}{6}\\\\\\frac{1}{6}\\end{matrix}\\right], \\  \\left[\\begin{matrix}\\frac{1}{6}\\\\- \\frac{1}{6}\\\\- \\frac{1}{6}\\\\- \\frac{1}{6}\\\\\\frac{1}{6}\\\\\\frac{1}{6}\\end{matrix}\\right], \\  \\left[\\begin{matrix}\\frac{1}{3}\\\\\\frac{1}{3}\\\\0\\\\- \\frac{1}{3}\\\\0\\\\- \\frac{1}{3}\\end{matrix}\\right], \\  \\left[\\begin{matrix}\\frac{1}{3}\\\\- \\frac{1}{3}\\\\0\\\\\\frac{1}{3}\\\\- \\frac{1}{3}\\\\0\\end{matrix}\\right]\\right]$"
      ],
      "text/plain": [
       "⎡⎡1/6⎤  ⎡1/6 ⎤  ⎡1/3 ⎤  ⎡1/3 ⎤⎤\n",
       "⎢⎢   ⎥  ⎢    ⎥  ⎢    ⎥  ⎢    ⎥⎥\n",
       "⎢⎢1/6⎥  ⎢-1/6⎥  ⎢1/3 ⎥  ⎢-1/3⎥⎥\n",
       "⎢⎢   ⎥  ⎢    ⎥  ⎢    ⎥  ⎢    ⎥⎥\n",
       "⎢⎢1/6⎥  ⎢-1/6⎥  ⎢ 0  ⎥  ⎢ 0  ⎥⎥\n",
       "⎢⎢   ⎥, ⎢    ⎥, ⎢    ⎥, ⎢    ⎥⎥\n",
       "⎢⎢1/6⎥  ⎢-1/6⎥  ⎢-1/3⎥  ⎢1/3 ⎥⎥\n",
       "⎢⎢   ⎥  ⎢    ⎥  ⎢    ⎥  ⎢    ⎥⎥\n",
       "⎢⎢1/6⎥  ⎢1/6 ⎥  ⎢ 0  ⎥  ⎢-1/3⎥⎥\n",
       "⎢⎢   ⎥  ⎢    ⎥  ⎢    ⎥  ⎢    ⎥⎥\n",
       "⎣⎣1/6⎦  ⎣1/6 ⎦  ⎣-1/3⎦  ⎣ 0  ⎦⎦"
      ]
     },
     "execution_count": 10,
     "metadata": {},
     "output_type": "execute_result"
    }
   ],
   "source": [
    "# Jungo simetrizatorių vektorių-stulpelių forma\n",
    "Y = [Y_triv, Y_alt, Y_st_1, Y_st_2]\n",
    "Y"
   ]
  },
  {
   "cell_type": "code",
   "execution_count": 11,
   "id": "1f84986e",
   "metadata": {},
   "outputs": [
    {
     "data": {
      "image/png": "[encoded data removed]",
      "text/latex": [
       "$\\displaystyle \\left[\\begin{matrix}\\frac{1}{6} & 0 & 0 & 0\\\\0 & \\frac{1}{6} & 0 & 0\\\\0 & 0 & \\frac{4}{9} & - \\frac{1}{9}\\\\0 & 0 & - \\frac{1}{9} & \\frac{4}{9}\\end{matrix}\\right]$"
      ],
      "text/plain": [
       "⎡1/6   0    0     0  ⎤\n",
       "⎢                    ⎥\n",
       "⎢ 0   1/6   0     0  ⎥\n",
       "⎢                    ⎥\n",
       "⎢ 0    0   4/9   -1/9⎥\n",
       "⎢                    ⎥\n",
       "⎣ 0    0   -1/9  4/9 ⎦"
      ]
     },
     "execution_count": 11,
     "metadata": {},
     "output_type": "execute_result"
    }
   ],
   "source": [
    "# Pastaba: šie vektoriai nėra orotogonalūs įprastinės skaliarinės sandaugos atžvilgiu\n",
    "M = sym.zeros(4,4) \n",
    "for i in range(4):\n",
    "    for j in range (4):\n",
    "        M[i,j] = Y[i].T * Y[j]\n",
    "M"
   ]
  },
  {
   "cell_type": "markdown",
   "id": "6a4c0143",
   "metadata": {},
   "source": [
    "#### Jungo simetrizatoriai kaip matricos"
   ]
  },
  {
   "cell_type": "markdown",
   "id": "a4adbb8d",
   "metadata": {},
   "source": [
    "Ši Jungo simetrizatorių forma nėra patogi mūsų keliamam tikslui, tačiau padeda iliustruoti simetrizatorių pilnumo ir ortogonalumo savybes."
   ]
  },
  {
   "cell_type": "code",
   "execution_count": 12,
   "id": "ab924491",
   "metadata": {},
   "outputs": [],
   "source": [
    "# Jungo tablo [1,2,3]\n",
    "Row = Re + R12 + R23 + R13 + R123 + R321\n",
    "Col = Re\n",
    "RY_triv = sym.Rational(1,6) * Row * Col"
   ]
  },
  {
   "cell_type": "code",
   "execution_count": 13,
   "id": "5228ffa5",
   "metadata": {},
   "outputs": [],
   "source": [
    "# Jungo tablo [1,2][3]\n",
    "Row = Re + R12\n",
    "Col = Re - R13\n",
    "RY_st_1 = sym.Rational(2,6) * Row * Col"
   ]
  },
  {
   "cell_type": "code",
   "execution_count": 14,
   "id": "8756e626",
   "metadata": {},
   "outputs": [],
   "source": [
    "# Jungo tablo [1,3][2]\n",
    "Row = Re + R13\n",
    "Col = Re - R12\n",
    "RY_st_2 = sym.Rational(2,6) * Row * Col"
   ]
  },
  {
   "cell_type": "code",
   "execution_count": 15,
   "id": "fcc3ee21",
   "metadata": {},
   "outputs": [],
   "source": [
    "# Jungo tablo [1][2][3]\n",
    "Row = Re\n",
    "Col = Re - R12 - R23 - R13 + R123 + R321\n",
    "RY_alt = sym.Rational(1,6) * Row * Col"
   ]
  },
  {
   "cell_type": "code",
   "execution_count": 16,
   "id": "b4c378d9",
   "metadata": {},
   "outputs": [
    {
     "data": {
      "image/png": "[encoded data removed]",
      "text/latex": [
       "$\\displaystyle \\left[ \\left[\\begin{matrix}\\frac{1}{6} & \\frac{1}{6} & \\frac{1}{6} & \\frac{1}{6} & \\frac{1}{6} & \\frac{1}{6}\\\\\\frac{1}{6} & \\frac{1}{6} & \\frac{1}{6} & \\frac{1}{6} & \\frac{1}{6} & \\frac{1}{6}\\\\\\frac{1}{6} & \\frac{1}{6} & \\frac{1}{6} & \\frac{1}{6} & \\frac{1}{6} & \\frac{1}{6}\\\\\\frac{1}{6} & \\frac{1}{6} & \\frac{1}{6} & \\frac{1}{6} & \\frac{1}{6} & \\frac{1}{6}\\\\\\frac{1}{6} & \\frac{1}{6} & \\frac{1}{6} & \\frac{1}{6} & \\frac{1}{6} & \\frac{1}{6}\\\\\\frac{1}{6} & \\frac{1}{6} & \\frac{1}{6} & \\frac{1}{6} & \\frac{1}{6} & \\frac{1}{6}\\end{matrix}\\right], \\  \\left[\\begin{matrix}\\frac{1}{6} & - \\frac{1}{6} & - \\frac{1}{6} & - \\frac{1}{6} & \\frac{1}{6} & \\frac{1}{6}\\\\- \\frac{1}{6} & \\frac{1}{6} & \\frac{1}{6} & \\frac{1}{6} & - \\frac{1}{6} & - \\frac{1}{6}\\\\- \\frac{1}{6} & \\frac{1}{6} & \\frac{1}{6} & \\frac{1}{6} & - \\frac{1}{6} & - \\frac{1}{6}\\\\- \\frac{1}{6} & \\frac{1}{6} & \\frac{1}{6} & \\frac{1}{6} & - \\frac{1}{6} & - \\frac{1}{6}\\\\\\frac{1}{6} & - \\frac{1}{6} & - \\frac{1}{6} & - \\frac{1}{6} & \\frac{1}{6} & \\frac{1}{6}\\\\\\frac{1}{6} & - \\frac{1}{6} & - \\frac{1}{6} & - \\frac{1}{6} & \\frac{1}{6} & \\frac{1}{6}\\end{matrix}\\right], \\  \\left[\\begin{matrix}\\frac{1}{3} & \\frac{1}{3} & 0 & - \\frac{1}{3} & - \\frac{1}{3} & 0\\\\\\frac{1}{3} & \\frac{1}{3} & 0 & - \\frac{1}{3} & - \\frac{1}{3} & 0\\\\0 & - \\frac{1}{3} & \\frac{1}{3} & 0 & \\frac{1}{3} & - \\frac{1}{3}\\\\- \\frac{1}{3} & 0 & - \\frac{1}{3} & \\frac{1}{3} & 0 & \\frac{1}{3}\\\\0 & - \\frac{1}{3} & \\frac{1}{3} & 0 & \\frac{1}{3} & - \\frac{1}{3}\\\\- \\frac{1}{3} & 0 & - \\frac{1}{3} & \\frac{1}{3} & 0 & \\frac{1}{3}\\end{matrix}\\right], \\  \\left[\\begin{matrix}\\frac{1}{3} & - \\frac{1}{3} & 0 & \\frac{1}{3} & 0 & - \\frac{1}{3}\\\\- \\frac{1}{3} & \\frac{1}{3} & - \\frac{1}{3} & 0 & \\frac{1}{3} & 0\\\\0 & 0 & \\frac{1}{3} & - \\frac{1}{3} & - \\frac{1}{3} & \\frac{1}{3}\\\\\\frac{1}{3} & - \\frac{1}{3} & 0 & \\frac{1}{3} & 0 & - \\frac{1}{3}\\\\- \\frac{1}{3} & \\frac{1}{3} & - \\frac{1}{3} & 0 & \\frac{1}{3} & 0\\\\0 & 0 & \\frac{1}{3} & - \\frac{1}{3} & - \\frac{1}{3} & \\frac{1}{3}\\end{matrix}\\right]\\right]$"
      ],
      "text/plain": [
       "⎡⎡1/6  1/6  1/6  1/6  1/6  1/6⎤  ⎡1/6   -1/6  -1/6  -1/6  1/6   1/6 ⎤  ⎡1/3   \n",
       "⎢⎢                            ⎥  ⎢                                  ⎥  ⎢      \n",
       "⎢⎢1/6  1/6  1/6  1/6  1/6  1/6⎥  ⎢-1/6  1/6   1/6   1/6   -1/6  -1/6⎥  ⎢1/3   \n",
       "⎢⎢                            ⎥  ⎢                                  ⎥  ⎢      \n",
       "⎢⎢1/6  1/6  1/6  1/6  1/6  1/6⎥  ⎢-1/6  1/6   1/6   1/6   -1/6  -1/6⎥  ⎢ 0    \n",
       "⎢⎢                            ⎥, ⎢                                  ⎥, ⎢      \n",
       "⎢⎢1/6  1/6  1/6  1/6  1/6  1/6⎥  ⎢-1/6  1/6   1/6   1/6   -1/6  -1/6⎥  ⎢-1/3  \n",
       "⎢⎢                            ⎥  ⎢                                  ⎥  ⎢      \n",
       "⎢⎢1/6  1/6  1/6  1/6  1/6  1/6⎥  ⎢1/6   -1/6  -1/6  -1/6  1/6   1/6 ⎥  ⎢ 0    \n",
       "⎢⎢                            ⎥  ⎢                                  ⎥  ⎢      \n",
       "⎣⎣1/6  1/6  1/6  1/6  1/6  1/6⎦  ⎣1/6   -1/6  -1/6  -1/6  1/6   1/6 ⎦  ⎣-1/3  \n",
       "\n",
       "1/3    0    -1/3  -1/3   0  ⎤  ⎡1/3   -1/3   0    1/3    0    -1/3⎤⎤\n",
       "                            ⎥  ⎢                                  ⎥⎥\n",
       "1/3    0    -1/3  -1/3   0  ⎥  ⎢-1/3  1/3   -1/3   0    1/3    0  ⎥⎥\n",
       "                            ⎥  ⎢                                  ⎥⎥\n",
       "-1/3  1/3    0    1/3   -1/3⎥  ⎢ 0     0    1/3   -1/3  -1/3  1/3 ⎥⎥\n",
       "                            ⎥, ⎢                                  ⎥⎥\n",
       " 0    -1/3  1/3    0    1/3 ⎥  ⎢1/3   -1/3   0    1/3    0    -1/3⎥⎥\n",
       "                            ⎥  ⎢                                  ⎥⎥\n",
       "-1/3  1/3    0    1/3   -1/3⎥  ⎢-1/3  1/3   -1/3   0    1/3    0  ⎥⎥\n",
       "                            ⎥  ⎢                                  ⎥⎥\n",
       " 0    -1/3  1/3    0    1/3 ⎦  ⎣ 0     0    1/3   -1/3  -1/3  1/3 ⎦⎦"
      ]
     },
     "execution_count": 16,
     "metadata": {},
     "output_type": "execute_result"
    }
   ],
   "source": [
    "# Jungo simetrizatorių matricinė forma\n",
    "RY = [RY_triv, RY_alt, RY_st_1, RY_st_2]\n",
    "RY"
   ]
  },
  {
   "cell_type": "code",
   "execution_count": 17,
   "id": "44f57804",
   "metadata": {},
   "outputs": [
    {
     "data": {
      "text/plain": [
       "True"
      ]
     },
     "execution_count": 17,
     "metadata": {},
     "output_type": "execute_result"
    }
   ],
   "source": [
    "# Pilnumo sąlygos patikrinimas: simetrizatorių suma turi duoti vienetinę matricą\n",
    "RY[0] + RY[1] + RY[2] + RY[3] == sym.eye(6)"
   ]
  },
  {
   "cell_type": "code",
   "execution_count": 18,
   "id": "e668070a",
   "metadata": {},
   "outputs": [
    {
     "data": {
      "text/plain": [
       "array([[ True,  True,  True,  True],\n",
       "       [ True,  True,  True,  True],\n",
       "       [ True,  True,  True,  True],\n",
       "       [ True,  True,  True,  True]])"
      ]
     },
     "execution_count": 18,
     "metadata": {},
     "output_type": "execute_result"
    }
   ],
   "source": [
    "# Simetrizatorių ortogonalumo patikrinimas:\n",
    "# Y_i * Y_j = delta_ij Y_i\n",
    "M = np.zeros((4,4), dtype = bool) \n",
    "for i in range(4):\n",
    "    for j in range (4):\n",
    "        M[i,j] = sym.simplify(RY[i] * RY[j] == delta(i,j) * RY[i])\n",
    "M"
   ]
  },
  {
   "cell_type": "markdown",
   "id": "e8cc5864",
   "metadata": {},
   "source": [
    "### Įvaizdžių konstravimas"
   ]
  },
  {
   "cell_type": "markdown",
   "id": "da4c1ece",
   "metadata": {},
   "source": [
    "Prisiminkite, kad\n",
    "\n",
    "$\n",
    "V_{\\rm R} = V_{\\rm triv} \\oplus  V_{\\rm alt} \\oplus  V_{\\rm st} \\oplus  V_{\\rm st}\n",
    "$\n",
    "\n",
    "Jungo simetrizatoriai, kuriuos sukonstravome aukščiau yra vektoriai šiuose įvaizdžiuose:\n",
    "\n",
    "- $Y_{\\rm triv} \\in V_{\\rm triv}$\n",
    "\n",
    "- $Y_{\\rm alt} \\in V_{\\rm alt}$\n",
    "\n",
    "- $Y_{\\rm st1} \\in V_{\\rm st}$ (pirmoji kopija)\n",
    "\n",
    "- $Y_{\\rm st2} \\in V_{\\rm st}$ (antroji kopija)\n",
    "\n",
    "Mums tereikia surasti likusius du vektorius pirmoje ir antroje $V_{\\rm st}$ kopijose."
   ]
  },
  {
   "cell_type": "code",
   "execution_count": 19,
   "id": "fc23cd80",
   "metadata": {},
   "outputs": [
    {
     "data": {
      "image/png": "[encoded data removed]",
      "text/latex": [
       "$\\displaystyle \\left[ \\left[\\begin{matrix}\\frac{1}{3}\\\\\\frac{1}{3}\\\\0\\\\- \\frac{1}{3}\\\\0\\\\- \\frac{1}{3}\\end{matrix}\\right], \\  \\left[\\begin{matrix}\\frac{1}{3}\\\\\\frac{1}{3}\\\\0\\\\- \\frac{1}{3}\\\\0\\\\- \\frac{1}{3}\\end{matrix}\\right], \\  \\left[\\begin{matrix}0\\\\- \\frac{1}{3}\\\\\\frac{1}{3}\\\\0\\\\- \\frac{1}{3}\\\\\\frac{1}{3}\\end{matrix}\\right], \\  \\left[\\begin{matrix}- \\frac{1}{3}\\\\0\\\\- \\frac{1}{3}\\\\\\frac{1}{3}\\\\\\frac{1}{3}\\\\0\\end{matrix}\\right], \\  \\left[\\begin{matrix}- \\frac{1}{3}\\\\0\\\\- \\frac{1}{3}\\\\\\frac{1}{3}\\\\\\frac{1}{3}\\\\0\\end{matrix}\\right], \\  \\left[\\begin{matrix}0\\\\- \\frac{1}{3}\\\\\\frac{1}{3}\\\\0\\\\- \\frac{1}{3}\\\\\\frac{1}{3}\\end{matrix}\\right]\\right]$"
      ],
      "text/plain": [
       "⎡⎡1/3 ⎤  ⎡1/3 ⎤  ⎡ 0  ⎤  ⎡-1/3⎤  ⎡-1/3⎤  ⎡ 0  ⎤⎤\n",
       "⎢⎢    ⎥  ⎢    ⎥  ⎢    ⎥  ⎢    ⎥  ⎢    ⎥  ⎢    ⎥⎥\n",
       "⎢⎢1/3 ⎥  ⎢1/3 ⎥  ⎢-1/3⎥  ⎢ 0  ⎥  ⎢ 0  ⎥  ⎢-1/3⎥⎥\n",
       "⎢⎢    ⎥  ⎢    ⎥  ⎢    ⎥  ⎢    ⎥  ⎢    ⎥  ⎢    ⎥⎥\n",
       "⎢⎢ 0  ⎥  ⎢ 0  ⎥  ⎢1/3 ⎥  ⎢-1/3⎥  ⎢-1/3⎥  ⎢1/3 ⎥⎥\n",
       "⎢⎢    ⎥, ⎢    ⎥, ⎢    ⎥, ⎢    ⎥, ⎢    ⎥, ⎢    ⎥⎥\n",
       "⎢⎢-1/3⎥  ⎢-1/3⎥  ⎢ 0  ⎥  ⎢1/3 ⎥  ⎢1/3 ⎥  ⎢ 0  ⎥⎥\n",
       "⎢⎢    ⎥  ⎢    ⎥  ⎢    ⎥  ⎢    ⎥  ⎢    ⎥  ⎢    ⎥⎥\n",
       "⎢⎢ 0  ⎥  ⎢ 0  ⎥  ⎢-1/3⎥  ⎢1/3 ⎥  ⎢1/3 ⎥  ⎢-1/3⎥⎥\n",
       "⎢⎢    ⎥  ⎢    ⎥  ⎢    ⎥  ⎢    ⎥  ⎢    ⎥  ⎢    ⎥⎥\n",
       "⎣⎣-1/3⎦  ⎣-1/3⎦  ⎣1/3 ⎦  ⎣ 0  ⎦  ⎣ 0  ⎦  ⎣1/3 ⎦⎦"
      ]
     },
     "execution_count": 19,
     "metadata": {},
     "output_type": "execute_result"
    }
   ],
   "source": [
    "# veikiame su reguliariu įvaizdžiu į vektorių Y_st_1 ir gauname vektorių sarašą apvelkantį pirmą erdvę V_st\n",
    "B = []\n",
    "for R in rep_R:\n",
    "    B.append(R * Y_st_1)\n",
    "B"
   ]
  },
  {
   "cell_type": "code",
   "execution_count": 20,
   "id": "dcfcfda5",
   "metadata": {},
   "outputs": [
    {
     "data": {
      "image/png": "[encoded data removed]",
      "text/latex": [
       "$\\displaystyle \\left( \\left[\\begin{matrix}1 & 1 & 0 & -1 & -1 & 0\\\\0 & 0 & 1 & -1 & -1 & 1\\\\0 & 0 & 0 & 0 & 0 & 0\\\\0 & 0 & 0 & 0 & 0 & 0\\\\0 & 0 & 0 & 0 & 0 & 0\\\\0 & 0 & 0 & 0 & 0 & 0\\end{matrix}\\right], \\  \\left( 0, \\  2\\right)\\right)$"
      ],
      "text/plain": [
       "⎛⎡1  1  0  -1  -1  0⎤        ⎞\n",
       "⎜⎢                  ⎥        ⎟\n",
       "⎜⎢0  0  1  -1  -1  1⎥        ⎟\n",
       "⎜⎢                  ⎥        ⎟\n",
       "⎜⎢0  0  0  0   0   0⎥        ⎟\n",
       "⎜⎢                  ⎥, (0, 2)⎟\n",
       "⎜⎢0  0  0  0   0   0⎥        ⎟\n",
       "⎜⎢                  ⎥        ⎟\n",
       "⎜⎢0  0  0  0   0   0⎥        ⎟\n",
       "⎜⎢                  ⎥        ⎟\n",
       "⎝⎣0  0  0  0   0   0⎦        ⎠"
      ]
     },
     "execution_count": 20,
     "metadata": {},
     "output_type": "execute_result"
    }
   ],
   "source": [
    "# Apvelkantį sąrašą paverčiame matrica\n",
    "C = sym.Matrix(np.array(B).reshape(ng,ng)).T\n",
    "# redukuota ešolono forma - iš jos matome, kad galime imti vektorius 1 ir 3 kaip tiesiškai nepriklausomus\n",
    "C.rref()"
   ]
  },
  {
   "cell_type": "code",
   "execution_count": 21,
   "id": "25a7b28b",
   "metadata": {},
   "outputs": [
    {
     "data": {
      "image/png": "[encoded data removed]",
      "text/latex": [
       "$\\displaystyle \\left[ \\left[\\begin{matrix}\\frac{1}{3}\\\\\\frac{1}{3}\\\\0\\\\- \\frac{1}{3}\\\\0\\\\- \\frac{1}{3}\\end{matrix}\\right], \\  \\left[\\begin{matrix}0\\\\- \\frac{1}{3}\\\\\\frac{1}{3}\\\\0\\\\- \\frac{1}{3}\\\\\\frac{1}{3}\\end{matrix}\\right]\\right]$"
      ],
      "text/plain": [
       "⎡⎡1/3 ⎤  ⎡ 0  ⎤⎤\n",
       "⎢⎢    ⎥  ⎢    ⎥⎥\n",
       "⎢⎢1/3 ⎥  ⎢-1/3⎥⎥\n",
       "⎢⎢    ⎥  ⎢    ⎥⎥\n",
       "⎢⎢ 0  ⎥  ⎢1/3 ⎥⎥\n",
       "⎢⎢    ⎥, ⎢    ⎥⎥\n",
       "⎢⎢-1/3⎥  ⎢ 0  ⎥⎥\n",
       "⎢⎢    ⎥  ⎢    ⎥⎥\n",
       "⎢⎢ 0  ⎥  ⎢-1/3⎥⎥\n",
       "⎢⎢    ⎥  ⎢    ⎥⎥\n",
       "⎣⎣-1/3⎦  ⎣1/3 ⎦⎦"
      ]
     },
     "execution_count": 21,
     "metadata": {},
     "output_type": "execute_result"
    }
   ],
   "source": [
    "# Pirmos erdvės V_st bazė\n",
    "B_st_1 = [B[0], B[2]]\n",
    "B_st_1"
   ]
  },
  {
   "cell_type": "code",
   "execution_count": 22,
   "id": "653e568e",
   "metadata": {},
   "outputs": [],
   "source": [
    "# veikiame su reguliariu įvaizdžiu į vektorių Y_st_2 ir gauname vektorių sarašą apvelkantį antrą erdvę V_st\n",
    "B = []\n",
    "for R in rep_R:\n",
    "    B.append(R * Y_st_2)"
   ]
  },
  {
   "cell_type": "code",
   "execution_count": 23,
   "id": "91cd6c94",
   "metadata": {},
   "outputs": [
    {
     "data": {
      "image/png": "[encoded data removed]",
      "text/latex": [
       "$\\displaystyle \\left( \\left[\\begin{matrix}1 & 0 & -1 & 1 & -1 & 0\\\\0 & 1 & -1 & 0 & -1 & 1\\\\0 & 0 & 0 & 0 & 0 & 0\\\\0 & 0 & 0 & 0 & 0 & 0\\\\0 & 0 & 0 & 0 & 0 & 0\\\\0 & 0 & 0 & 0 & 0 & 0\\end{matrix}\\right], \\  \\left( 0, \\  1\\right)\\right)$"
      ],
      "text/plain": [
       "⎛⎡1  0  -1  1  -1  0⎤        ⎞\n",
       "⎜⎢                  ⎥        ⎟\n",
       "⎜⎢0  1  -1  0  -1  1⎥        ⎟\n",
       "⎜⎢                  ⎥        ⎟\n",
       "⎜⎢0  0  0   0  0   0⎥        ⎟\n",
       "⎜⎢                  ⎥, (0, 1)⎟\n",
       "⎜⎢0  0  0   0  0   0⎥        ⎟\n",
       "⎜⎢                  ⎥        ⎟\n",
       "⎜⎢0  0  0   0  0   0⎥        ⎟\n",
       "⎜⎢                  ⎥        ⎟\n",
       "⎝⎣0  0  0   0  0   0⎦        ⎠"
      ]
     },
     "execution_count": 23,
     "metadata": {},
     "output_type": "execute_result"
    }
   ],
   "source": [
    "# Apvelkantį sąrašą paverčiame matrica\n",
    "C = sym.Matrix(np.array(B).reshape(ng,ng)).T\n",
    "# redukuota ešolono forma - iš jos matome, kad galime imti vektorius 1 ir 2 kaip tiesiškai nepriklausomus\n",
    "C.rref()"
   ]
  },
  {
   "cell_type": "code",
   "execution_count": 24,
   "id": "03d6ab81",
   "metadata": {},
   "outputs": [
    {
     "data": {
      "image/png": "[encoded data removed]",
      "text/latex": [
       "$\\displaystyle \\left[ \\left[\\begin{matrix}\\frac{1}{3}\\\\- \\frac{1}{3}\\\\0\\\\\\frac{1}{3}\\\\- \\frac{1}{3}\\\\0\\end{matrix}\\right], \\  \\left[\\begin{matrix}- \\frac{1}{3}\\\\\\frac{1}{3}\\\\- \\frac{1}{3}\\\\0\\\\0\\\\\\frac{1}{3}\\end{matrix}\\right]\\right]$"
      ],
      "text/plain": [
       "⎡⎡1/3 ⎤  ⎡-1/3⎤⎤\n",
       "⎢⎢    ⎥  ⎢    ⎥⎥\n",
       "⎢⎢-1/3⎥  ⎢1/3 ⎥⎥\n",
       "⎢⎢    ⎥  ⎢    ⎥⎥\n",
       "⎢⎢ 0  ⎥  ⎢-1/3⎥⎥\n",
       "⎢⎢    ⎥, ⎢    ⎥⎥\n",
       "⎢⎢1/3 ⎥  ⎢ 0  ⎥⎥\n",
       "⎢⎢    ⎥  ⎢    ⎥⎥\n",
       "⎢⎢-1/3⎥  ⎢ 0  ⎥⎥\n",
       "⎢⎢    ⎥  ⎢    ⎥⎥\n",
       "⎣⎣ 0  ⎦  ⎣1/3 ⎦⎦"
      ]
     },
     "execution_count": 24,
     "metadata": {},
     "output_type": "execute_result"
    }
   ],
   "source": [
    "# Antros erdvės V_st bazė\n",
    "B_st_2 = [B[0], B[1]]\n",
    "B_st_2"
   ]
  },
  {
   "cell_type": "markdown",
   "id": "89f9188d",
   "metadata": {},
   "source": [
    "### Reguliaraus įvaizdžio blok-diagonalizavimas"
   ]
  },
  {
   "cell_type": "markdown",
   "id": "ce96cac0",
   "metadata": {},
   "source": [
    "Atlikę aukščiau aprašytus veiksmus suradome bazę, kurioje reguliarus įvaizdis yra blok-diagonalus:\n",
    "\n",
    "``\n",
    "Nauja bazė = [ Y_triv, Y_alt, B_st_1[0], B_st_1[1], B_st_2[0], B_st_2[1] ]\n",
    "``"
   ]
  },
  {
   "cell_type": "code",
   "execution_count": 25,
   "id": "38077ab7",
   "metadata": {},
   "outputs": [
    {
     "data": {
      "image/png": "[encoded data removed]",
      "text/latex": [
       "$\\displaystyle \\left[ \\left[\\begin{matrix}\\frac{1}{6}\\\\\\frac{1}{6}\\\\\\frac{1}{6}\\\\\\frac{1}{6}\\\\\\frac{1}{6}\\\\\\frac{1}{6}\\end{matrix}\\right], \\  \\left[\\begin{matrix}\\frac{1}{6}\\\\- \\frac{1}{6}\\\\- \\frac{1}{6}\\\\- \\frac{1}{6}\\\\\\frac{1}{6}\\\\\\frac{1}{6}\\end{matrix}\\right], \\  \\left[\\begin{matrix}\\frac{1}{3}\\\\\\frac{1}{3}\\\\0\\\\- \\frac{1}{3}\\\\0\\\\- \\frac{1}{3}\\end{matrix}\\right], \\  \\left[\\begin{matrix}0\\\\- \\frac{1}{3}\\\\\\frac{1}{3}\\\\0\\\\- \\frac{1}{3}\\\\\\frac{1}{3}\\end{matrix}\\right], \\  \\left[\\begin{matrix}\\frac{1}{3}\\\\- \\frac{1}{3}\\\\0\\\\\\frac{1}{3}\\\\- \\frac{1}{3}\\\\0\\end{matrix}\\right], \\  \\left[\\begin{matrix}- \\frac{1}{3}\\\\\\frac{1}{3}\\\\- \\frac{1}{3}\\\\0\\\\0\\\\\\frac{1}{3}\\end{matrix}\\right]\\right]$"
      ],
      "text/plain": [
       "⎡⎡1/6⎤  ⎡1/6 ⎤  ⎡1/3 ⎤  ⎡ 0  ⎤  ⎡1/3 ⎤  ⎡-1/3⎤⎤\n",
       "⎢⎢   ⎥  ⎢    ⎥  ⎢    ⎥  ⎢    ⎥  ⎢    ⎥  ⎢    ⎥⎥\n",
       "⎢⎢1/6⎥  ⎢-1/6⎥  ⎢1/3 ⎥  ⎢-1/3⎥  ⎢-1/3⎥  ⎢1/3 ⎥⎥\n",
       "⎢⎢   ⎥  ⎢    ⎥  ⎢    ⎥  ⎢    ⎥  ⎢    ⎥  ⎢    ⎥⎥\n",
       "⎢⎢1/6⎥  ⎢-1/6⎥  ⎢ 0  ⎥  ⎢1/3 ⎥  ⎢ 0  ⎥  ⎢-1/3⎥⎥\n",
       "⎢⎢   ⎥, ⎢    ⎥, ⎢    ⎥, ⎢    ⎥, ⎢    ⎥, ⎢    ⎥⎥\n",
       "⎢⎢1/6⎥  ⎢-1/6⎥  ⎢-1/3⎥  ⎢ 0  ⎥  ⎢1/3 ⎥  ⎢ 0  ⎥⎥\n",
       "⎢⎢   ⎥  ⎢    ⎥  ⎢    ⎥  ⎢    ⎥  ⎢    ⎥  ⎢    ⎥⎥\n",
       "⎢⎢1/6⎥  ⎢1/6 ⎥  ⎢ 0  ⎥  ⎢-1/3⎥  ⎢-1/3⎥  ⎢ 0  ⎥⎥\n",
       "⎢⎢   ⎥  ⎢    ⎥  ⎢    ⎥  ⎢    ⎥  ⎢    ⎥  ⎢    ⎥⎥\n",
       "⎣⎣1/6⎦  ⎣1/6 ⎦  ⎣-1/3⎦  ⎣1/3 ⎦  ⎣ 0  ⎦  ⎣1/3 ⎦⎦"
      ]
     },
     "execution_count": 25,
     "metadata": {},
     "output_type": "execute_result"
    }
   ],
   "source": [
    "# Nauja reguliaraus įvaizdžio bazė\n",
    "new_basis = [Y_triv, Y_alt] + B_st_1 + B_st_2\n",
    "new_basis"
   ]
  },
  {
   "cell_type": "code",
   "execution_count": 26,
   "id": "105884f1",
   "metadata": {},
   "outputs": [
    {
     "data": {
      "image/png": "[encoded data removed]",
      "text/latex": [
       "$\\displaystyle \\left[\\begin{matrix}\\frac{1}{6} & \\frac{1}{6} & \\frac{1}{3} & 0 & \\frac{1}{3} & - \\frac{1}{3}\\\\\\frac{1}{6} & - \\frac{1}{6} & \\frac{1}{3} & - \\frac{1}{3} & - \\frac{1}{3} & \\frac{1}{3}\\\\\\frac{1}{6} & - \\frac{1}{6} & 0 & \\frac{1}{3} & 0 & - \\frac{1}{3}\\\\\\frac{1}{6} & - \\frac{1}{6} & - \\frac{1}{3} & 0 & \\frac{1}{3} & 0\\\\\\frac{1}{6} & \\frac{1}{6} & 0 & - \\frac{1}{3} & - \\frac{1}{3} & 0\\\\\\frac{1}{6} & \\frac{1}{6} & - \\frac{1}{3} & \\frac{1}{3} & 0 & \\frac{1}{3}\\end{matrix}\\right]$"
      ],
      "text/plain": [
       "⎡1/6  1/6   1/3    0    1/3   -1/3⎤\n",
       "⎢                                 ⎥\n",
       "⎢1/6  -1/6  1/3   -1/3  -1/3  1/3 ⎥\n",
       "⎢                                 ⎥\n",
       "⎢1/6  -1/6   0    1/3    0    -1/3⎥\n",
       "⎢                                 ⎥\n",
       "⎢1/6  -1/6  -1/3   0    1/3    0  ⎥\n",
       "⎢                                 ⎥\n",
       "⎢1/6  1/6    0    -1/3  -1/3   0  ⎥\n",
       "⎢                                 ⎥\n",
       "⎣1/6  1/6   -1/3  1/3    0    1/3 ⎦"
      ]
     },
     "execution_count": 26,
     "metadata": {},
     "output_type": "execute_result"
    }
   ],
   "source": [
    "# Naują bazę paverčiame matrica\n",
    "C = sym.Matrix(np.array(new_basis).reshape(ng,ng)).T\n",
    "C"
   ]
  },
  {
   "cell_type": "code",
   "execution_count": 27,
   "id": "c77593e1",
   "metadata": {},
   "outputs": [
    {
     "data": {
      "image/png": "[encoded data removed]",
      "text/latex": [
       "$\\displaystyle \\left[\\begin{matrix}\\frac{1}{6} & 0 & 0 & 0 & 0 & 0\\\\0 & \\frac{1}{6} & 0 & 0 & 0 & 0\\\\0 & 0 & \\frac{4}{9} & - \\frac{2}{9} & - \\frac{1}{9} & - \\frac{1}{9}\\\\0 & 0 & - \\frac{2}{9} & \\frac{4}{9} & \\frac{2}{9} & - \\frac{1}{9}\\\\0 & 0 & - \\frac{1}{9} & \\frac{2}{9} & \\frac{4}{9} & - \\frac{2}{9}\\\\0 & 0 & - \\frac{1}{9} & - \\frac{1}{9} & - \\frac{2}{9} & \\frac{4}{9}\\end{matrix}\\right]$"
      ],
      "text/plain": [
       "⎡1/6   0    0     0     0     0  ⎤\n",
       "⎢                                ⎥\n",
       "⎢ 0   1/6   0     0     0     0  ⎥\n",
       "⎢                                ⎥\n",
       "⎢ 0    0   4/9   -2/9  -1/9  -1/9⎥\n",
       "⎢                                ⎥\n",
       "⎢ 0    0   -2/9  4/9   2/9   -1/9⎥\n",
       "⎢                                ⎥\n",
       "⎢ 0    0   -1/9  2/9   4/9   -2/9⎥\n",
       "⎢                                ⎥\n",
       "⎣ 0    0   -1/9  -1/9  -2/9  4/9 ⎦"
      ]
     },
     "execution_count": 27,
     "metadata": {},
     "output_type": "execute_result"
    }
   ],
   "source": [
    "# Pastaba: mūsų nauja bazė nėra ortonormali įprastinės vektorių skaliarinės sandaugos atžvilgiu\n",
    "# Todėl blok-diagonalizavimas šia matrica duos ne unitarų įvaizdį \n",
    "C.T * C"
   ]
  },
  {
   "cell_type": "code",
   "execution_count": 28,
   "id": "4df37648",
   "metadata": {},
   "outputs": [
    {
     "data": {
      "image/png": "[encoded data removed]",
      "text/latex": [
       "$\\displaystyle \\left[ \\left[\\begin{matrix}1 & 0 & 0 & 0 & 0 & 0\\\\0 & 1 & 0 & 0 & 0 & 0\\\\0 & 0 & 1 & 0 & 0 & 0\\\\0 & 0 & 0 & 1 & 0 & 0\\\\0 & 0 & 0 & 0 & 1 & 0\\\\0 & 0 & 0 & 0 & 0 & 1\\end{matrix}\\right], \\  \\left[\\begin{matrix}1 & 0 & 0 & 0 & 0 & 0\\\\0 & -1 & 0 & 0 & 0 & 0\\\\0 & 0 & 1 & -1 & 0 & 0\\\\0 & 0 & 0 & -1 & 0 & 0\\\\0 & 0 & 0 & 0 & 0 & 1\\\\0 & 0 & 0 & 0 & 1 & 0\\end{matrix}\\right], \\  \\left[\\begin{matrix}1 & 0 & 0 & 0 & 0 & 0\\\\0 & -1 & 0 & 0 & 0 & 0\\\\0 & 0 & 0 & 1 & 0 & 0\\\\0 & 0 & 1 & 0 & 0 & 0\\\\0 & 0 & 0 & 0 & -1 & 0\\\\0 & 0 & 0 & 0 & -1 & 1\\end{matrix}\\right], \\  \\left[\\begin{matrix}1 & 0 & 0 & 0 & 0 & 0\\\\0 & -1 & 0 & 0 & 0 & 0\\\\0 & 0 & -1 & 0 & 0 & 0\\\\0 & 0 & -1 & 1 & 0 & 0\\\\0 & 0 & 0 & 0 & 1 & -1\\\\0 & 0 & 0 & 0 & 0 & -1\\end{matrix}\\right], \\  \\left[\\begin{matrix}1 & 0 & 0 & 0 & 0 & 0\\\\0 & 1 & 0 & 0 & 0 & 0\\\\0 & 0 & -1 & 1 & 0 & 0\\\\0 & 0 & -1 & 0 & 0 & 0\\\\0 & 0 & 0 & 0 & -1 & 1\\\\0 & 0 & 0 & 0 & -1 & 0\\end{matrix}\\right], \\  \\left[\\begin{matrix}1 & 0 & 0 & 0 & 0 & 0\\\\0 & 1 & 0 & 0 & 0 & 0\\\\0 & 0 & 0 & -1 & 0 & 0\\\\0 & 0 & 1 & -1 & 0 & 0\\\\0 & 0 & 0 & 0 & 0 & -1\\\\0 & 0 & 0 & 0 & 1 & -1\\end{matrix}\\right]\\right]$"
      ],
      "text/plain": [
       "⎡⎡1  0  0  0  0  0⎤  ⎡1  0   0  0   0  0⎤  ⎡1  0   0  0  0   0⎤  ⎡1  0   0   0\n",
       "⎢⎢                ⎥  ⎢                  ⎥  ⎢                  ⎥  ⎢            \n",
       "⎢⎢0  1  0  0  0  0⎥  ⎢0  -1  0  0   0  0⎥  ⎢0  -1  0  0  0   0⎥  ⎢0  -1  0   0\n",
       "⎢⎢                ⎥  ⎢                  ⎥  ⎢                  ⎥  ⎢            \n",
       "⎢⎢0  0  1  0  0  0⎥  ⎢0  0   1  -1  0  0⎥  ⎢0  0   0  1  0   0⎥  ⎢0  0   -1  0\n",
       "⎢⎢                ⎥, ⎢                  ⎥, ⎢                  ⎥, ⎢            \n",
       "⎢⎢0  0  0  1  0  0⎥  ⎢0  0   0  -1  0  0⎥  ⎢0  0   1  0  0   0⎥  ⎢0  0   -1  1\n",
       "⎢⎢                ⎥  ⎢                  ⎥  ⎢                  ⎥  ⎢            \n",
       "⎢⎢0  0  0  0  1  0⎥  ⎢0  0   0  0   0  1⎥  ⎢0  0   0  0  -1  0⎥  ⎢0  0   0   0\n",
       "⎢⎢                ⎥  ⎢                  ⎥  ⎢                  ⎥  ⎢            \n",
       "⎣⎣0  0  0  0  0  1⎦  ⎣0  0   0  0   1  0⎦  ⎣0  0   0  0  -1  1⎦  ⎣0  0   0   0\n",
       "\n",
       "  0  0 ⎤  ⎡1  0  0   0  0   0⎤  ⎡1  0  0  0   0  0 ⎤⎤\n",
       "       ⎥  ⎢                  ⎥  ⎢                  ⎥⎥\n",
       "  0  0 ⎥  ⎢0  1  0   0  0   0⎥  ⎢0  1  0  0   0  0 ⎥⎥\n",
       "       ⎥  ⎢                  ⎥  ⎢                  ⎥⎥\n",
       "  0  0 ⎥  ⎢0  0  -1  1  0   0⎥  ⎢0  0  0  -1  0  0 ⎥⎥\n",
       "       ⎥, ⎢                  ⎥, ⎢                  ⎥⎥\n",
       "  0  0 ⎥  ⎢0  0  -1  0  0   0⎥  ⎢0  0  1  -1  0  0 ⎥⎥\n",
       "       ⎥  ⎢                  ⎥  ⎢                  ⎥⎥\n",
       "  1  -1⎥  ⎢0  0  0   0  -1  1⎥  ⎢0  0  0  0   0  -1⎥⎥\n",
       "       ⎥  ⎢                  ⎥  ⎢                  ⎥⎥\n",
       "  0  -1⎦  ⎣0  0  0   0  -1  0⎦  ⎣0  0  0  0   1  -1⎦⎦"
      ]
     },
     "execution_count": 28,
     "metadata": {},
     "output_type": "execute_result"
    }
   ],
   "source": [
    "# Blok-diagonalizavimas\n",
    "rep_R_bd = []\n",
    "for i in range(6):\n",
    "    rep_R_bd.append(C.inv()*rep_R[i]*C)\n",
    "rep_R_bd"
   ]
  },
  {
   "cell_type": "markdown",
   "id": "fadaa0ea",
   "metadata": {},
   "source": [
    "Gautas įvaizdis nėra unitarus. Mums reikia surasti panašumo transformacią, kuri unitarizuotų šį įvaizdį."
   ]
  },
  {
   "cell_type": "markdown",
   "id": "ceb9656f",
   "metadata": {},
   "source": [
    "### Įvaizdžio unitarizavimas"
   ]
  },
  {
   "cell_type": "markdown",
   "id": "4f57fa24",
   "metadata": {},
   "source": [
    "Unitarizavimo procedūra:\n",
    "\n",
    "$\n",
    "\\rho_V(g) \\mapsto S \\rho_V(g) S^{-1}\n",
    "$\n",
    "\n",
    "kur\n",
    "\n",
    "$\n",
    "S = \\sqrt{\\sum_{g \\in G} \\rho_V(g)^\\dagger \\rho_V(g)} \n",
    "$\n",
    "\n",
    "Matricos kėlimas laipsniu:\n",
    "\n",
    "$\n",
    "M^a = P D^a P^{-1}\n",
    "$\n",
    "\n",
    "kur $D$ yra diagonali tikrinių verčių matrica, o $P$ - diagonalizavimo matrica."
   ]
  },
  {
   "cell_type": "code",
   "execution_count": 29,
   "id": "0651177f",
   "metadata": {
    "code_folding": []
   },
   "outputs": [],
   "source": [
    "# Apibrėžiame funkciją, kur suranda matricos šaknį\n",
    "def matrix_sqrt(M):\n",
    "    P, D = M.diagonalize()\n",
    "    for i in range(D.shape[0]):\n",
    "        D[i,i] = sym.sqrt(D[i,i])\n",
    "    return P * D * P.inv()"
   ]
  },
  {
   "cell_type": "code",
   "execution_count": 30,
   "id": "5345190d",
   "metadata": {},
   "outputs": [],
   "source": [
    "# Ermitinis jungtinumas\n",
    "from sympy.physics.quantum import Dagger"
   ]
  },
  {
   "cell_type": "code",
   "execution_count": 31,
   "id": "ebdfeb41",
   "metadata": {},
   "outputs": [],
   "source": [
    "# Surandame unitarizavimo matricą\n",
    "S = sym.zeros(6)\n",
    "for R in rep_R_bd:\n",
    "    S += Dagger(R) * R\n",
    "S = matrix_sqrt(S)"
   ]
  },
  {
   "cell_type": "code",
   "execution_count": 32,
   "id": "2c211ec9",
   "metadata": {},
   "outputs": [
    {
     "data": {
      "image/png": "[encoded data removed]",
      "text/latex": [
       "$\\displaystyle \\left[ \\left[\\begin{matrix}1 & 0 & 0 & 0 & 0 & 0\\\\0 & 1 & 0 & 0 & 0 & 0\\\\0 & 0 & 1 & 0 & 0 & 0\\\\0 & 0 & 0 & 1 & 0 & 0\\\\0 & 0 & 0 & 0 & 1 & 0\\\\0 & 0 & 0 & 0 & 0 & 1\\end{matrix}\\right], \\  \\left[\\begin{matrix}1 & 0 & 0 & 0 & 0 & 0\\\\0 & -1 & 0 & 0 & 0 & 0\\\\0 & 0 & \\frac{\\sqrt{3}}{2} & - \\frac{1}{2} & 0 & 0\\\\0 & 0 & - \\frac{1}{2} & - \\frac{\\sqrt{3}}{2} & 0 & 0\\\\0 & 0 & 0 & 0 & 0 & 1\\\\0 & 0 & 0 & 0 & 1 & 0\\end{matrix}\\right], \\  \\left[\\begin{matrix}1 & 0 & 0 & 0 & 0 & 0\\\\0 & -1 & 0 & 0 & 0 & 0\\\\0 & 0 & 0 & 1 & 0 & 0\\\\0 & 0 & 1 & 0 & 0 & 0\\\\0 & 0 & 0 & 0 & - \\frac{\\sqrt{3}}{2} & - \\frac{1}{2}\\\\0 & 0 & 0 & 0 & - \\frac{1}{2} & \\frac{\\sqrt{3}}{2}\\end{matrix}\\right], \\  \\left[\\begin{matrix}1 & 0 & 0 & 0 & 0 & 0\\\\0 & -1 & 0 & 0 & 0 & 0\\\\0 & 0 & - \\frac{\\sqrt{3}}{2} & - \\frac{1}{2} & 0 & 0\\\\0 & 0 & - \\frac{1}{2} & \\frac{\\sqrt{3}}{2} & 0 & 0\\\\0 & 0 & 0 & 0 & \\frac{\\sqrt{3}}{2} & - \\frac{1}{2}\\\\0 & 0 & 0 & 0 & - \\frac{1}{2} & - \\frac{\\sqrt{3}}{2}\\end{matrix}\\right], \\  \\left[\\begin{matrix}1 & 0 & 0 & 0 & 0 & 0\\\\0 & 1 & 0 & 0 & 0 & 0\\\\0 & 0 & - \\frac{1}{2} & \\frac{\\sqrt{3}}{2} & 0 & 0\\\\0 & 0 & - \\frac{\\sqrt{3}}{2} & - \\frac{1}{2} & 0 & 0\\\\0 & 0 & 0 & 0 & - \\frac{1}{2} & \\frac{\\sqrt{3}}{2}\\\\0 & 0 & 0 & 0 & - \\frac{\\sqrt{3}}{2} & - \\frac{1}{2}\\end{matrix}\\right], \\  \\left[\\begin{matrix}1 & 0 & 0 & 0 & 0 & 0\\\\0 & 1 & 0 & 0 & 0 & 0\\\\0 & 0 & - \\frac{1}{2} & - \\frac{\\sqrt{3}}{2} & 0 & 0\\\\0 & 0 & \\frac{\\sqrt{3}}{2} & - \\frac{1}{2} & 0 & 0\\\\0 & 0 & 0 & 0 & - \\frac{1}{2} & - \\frac{\\sqrt{3}}{2}\\\\0 & 0 & 0 & 0 & \\frac{\\sqrt{3}}{2} & - \\frac{1}{2}\\end{matrix}\\right]\\right]$"
      ],
      "text/plain": [
       "⎡                                                                          ⎡1 \n",
       "⎢                                                                          ⎢  \n",
       "⎢                    ⎡1  0    0     0    0  0⎤  ⎡1  0   0  0   0     0  ⎤  ⎢0 \n",
       "⎢                    ⎢                       ⎥  ⎢                       ⎥  ⎢  \n",
       "⎢⎡1  0  0  0  0  0⎤  ⎢0  -1   0     0    0  0⎥  ⎢0  -1  0  0   0     0  ⎥  ⎢  \n",
       "⎢⎢                ⎥  ⎢                       ⎥  ⎢                       ⎥  ⎢0 \n",
       "⎢⎢0  1  0  0  0  0⎥  ⎢        √3             ⎥  ⎢0  0   0  1   0     0  ⎥  ⎢  \n",
       "⎢⎢                ⎥  ⎢0  0    ──   -1/2  0  0⎥  ⎢                       ⎥  ⎢  \n",
       "⎢⎢0  0  1  0  0  0⎥  ⎢        2              ⎥  ⎢0  0   1  0   0     0  ⎥  ⎢  \n",
       "⎢⎢                ⎥, ⎢                       ⎥, ⎢                       ⎥, ⎢0 \n",
       "⎢⎢0  0  0  1  0  0⎥  ⎢             -√3       ⎥  ⎢             -√3       ⎥  ⎢  \n",
       "⎢⎢                ⎥  ⎢0  0   -1/2  ────  0  0⎥  ⎢0  0   0  0  ────  -1/2⎥  ⎢  \n",
       "⎢⎢0  0  0  0  1  0⎥  ⎢              2        ⎥  ⎢              2        ⎥  ⎢  \n",
       "⎢⎢                ⎥  ⎢                       ⎥  ⎢                       ⎥  ⎢0 \n",
       "⎢⎣0  0  0  0  0  1⎦  ⎢0  0    0     0    0  1⎥  ⎢                    √3 ⎥  ⎢  \n",
       "⎢                    ⎢                       ⎥  ⎢0  0   0  0  -1/2   ── ⎥  ⎢  \n",
       "⎢                    ⎣0  0    0     0    1  0⎦  ⎣                    2  ⎦  ⎢  \n",
       "⎢                                                                          ⎢0 \n",
       "⎣                                                                          ⎣  \n",
       "\n",
       " 0    0     0     0     0  ⎤  ⎡1  0   0     0     0     0  ⎤  ⎡1  0   0     0 \n",
       "                           ⎥  ⎢                            ⎥  ⎢               \n",
       " -1   0     0     0     0  ⎥  ⎢0  1   0     0     0     0  ⎥  ⎢0  1   0     0 \n",
       "                           ⎥  ⎢                            ⎥  ⎢               \n",
       "     -√3                   ⎥  ⎢             √3             ⎥  ⎢            -√3\n",
       " 0   ────  -1/2   0     0  ⎥  ⎢0  0  -1/2   ──    0     0  ⎥  ⎢0  0  -1/2  ───\n",
       "      2                    ⎥  ⎢             2              ⎥  ⎢             2 \n",
       "                           ⎥  ⎢                            ⎥  ⎢               \n",
       "            √3             ⎥  ⎢      -√3                   ⎥  ⎢       √3      \n",
       " 0   -1/2   ──    0     0  ⎥, ⎢0  0  ────  -1/2   0     0  ⎥, ⎢0  0   ──   -1/\n",
       "            2              ⎥  ⎢       2                    ⎥  ⎢       2       \n",
       "                           ⎥  ⎢                            ⎥  ⎢               \n",
       "                  √3       ⎥  ⎢                         √3 ⎥  ⎢               \n",
       " 0    0     0     ──   -1/2⎥  ⎢0  0   0     0    -1/2   ── ⎥  ⎢0  0   0     0 \n",
       "                  2        ⎥  ⎢                         2  ⎥  ⎢               \n",
       "                           ⎥  ⎢                            ⎥  ⎢               \n",
       "                       -√3 ⎥  ⎢                  -√3       ⎥  ⎢               \n",
       " 0    0     0    -1/2  ────⎥  ⎢0  0   0     0    ────  -1/2⎥  ⎢0  0   0     0 \n",
       "                        2  ⎦  ⎣                   2        ⎦  ⎣               \n",
       "\n",
       "    0     0  ⎤⎤\n",
       "             ⎥⎥\n",
       "    0     0  ⎥⎥\n",
       "             ⎥⎥\n",
       "             ⎥⎥\n",
       "─   0     0  ⎥⎥\n",
       "             ⎥⎥\n",
       "             ⎥⎥\n",
       "             ⎥⎥\n",
       "2   0     0  ⎥⎥\n",
       "             ⎥⎥\n",
       "             ⎥⎥\n",
       "         -√3 ⎥⎥\n",
       "   -1/2  ────⎥⎥\n",
       "          2  ⎥⎥\n",
       "             ⎥⎥\n",
       "    √3       ⎥⎥\n",
       "    ──   -1/2⎥⎥\n",
       "    2        ⎦⎦"
      ]
     },
     "execution_count": 32,
     "metadata": {},
     "output_type": "execute_result"
    }
   ],
   "source": [
    "# Įvaizdžio unitarizavimas\n",
    "rep_R_bdu = []\n",
    "for i in range(6):\n",
    "    rep_R_bdu.append(sym.simplify(S*rep_R_bd[i]*S.inv()))\n",
    "rep_R_bdu"
   ]
  },
  {
   "cell_type": "markdown",
   "id": "18ea33bc",
   "metadata": {},
   "source": [
    "### Įvaizdžio išskaidymas į neredukuojamus įvaizdžius"
   ]
  },
  {
   "cell_type": "code",
   "execution_count": 33,
   "id": "24fb9032",
   "metadata": {},
   "outputs": [
    {
     "data": {
      "image/png": "[encoded data removed]",
      "text/latex": [
       "$\\displaystyle \\left[ 1, \\  1, \\  1, \\  1, \\  1, \\  1\\right]$"
      ],
      "text/plain": [
       "[1, 1, 1, 1, 1, 1]"
      ]
     },
     "execution_count": 33,
     "metadata": {},
     "output_type": "execute_result"
    }
   ],
   "source": [
    "# Trivialus įvaizdis\n",
    "rep_triv = []\n",
    "for i in range(6):\n",
    "    rep_triv.append(rep_R_bdu[i][0,0])\n",
    "rep_triv"
   ]
  },
  {
   "cell_type": "code",
   "execution_count": 34,
   "id": "871e0f19",
   "metadata": {},
   "outputs": [
    {
     "data": {
      "image/png": "[encoded data removed]",
      "text/latex": [
       "$\\displaystyle \\left[ 1, \\  -1, \\  -1, \\  -1, \\  1, \\  1\\right]$"
      ],
      "text/plain": [
       "[1, -1, -1, -1, 1, 1]"
      ]
     },
     "execution_count": 34,
     "metadata": {},
     "output_type": "execute_result"
    }
   ],
   "source": [
    "# Alternuojantis įvaizdis\n",
    "rep_alt = []\n",
    "for i in range(6):\n",
    "    rep_alt.append(rep_R_bdu[i][1,1])\n",
    "rep_alt"
   ]
  },
  {
   "cell_type": "code",
   "execution_count": 35,
   "id": "fe990f26",
   "metadata": {},
   "outputs": [
    {
     "data": {
      "image/png": "[encoded data removed]",
      "text/latex": [
       "$\\displaystyle \\left[ \\left[\\begin{matrix}1 & 0\\\\0 & 1\\end{matrix}\\right], \\  \\left[\\begin{matrix}\\frac{\\sqrt{3}}{2} & - \\frac{1}{2}\\\\- \\frac{1}{2} & - \\frac{\\sqrt{3}}{2}\\end{matrix}\\right], \\  \\left[\\begin{matrix}0 & 1\\\\1 & 0\\end{matrix}\\right], \\  \\left[\\begin{matrix}- \\frac{\\sqrt{3}}{2} & - \\frac{1}{2}\\\\- \\frac{1}{2} & \\frac{\\sqrt{3}}{2}\\end{matrix}\\right], \\  \\left[\\begin{matrix}- \\frac{1}{2} & \\frac{\\sqrt{3}}{2}\\\\- \\frac{\\sqrt{3}}{2} & - \\frac{1}{2}\\end{matrix}\\right], \\  \\left[\\begin{matrix}- \\frac{1}{2} & - \\frac{\\sqrt{3}}{2}\\\\\\frac{\\sqrt{3}}{2} & - \\frac{1}{2}\\end{matrix}\\right]\\right]$"
      ],
      "text/plain": [
       "⎡        ⎡ √3       ⎤          ⎡-√3       ⎤  ⎡       √3 ⎤  ⎡      -√3 ⎤⎤\n",
       "⎢        ⎢ ──   -1/2⎥          ⎢────  -1/2⎥  ⎢-1/2   ── ⎥  ⎢-1/2  ────⎥⎥\n",
       "⎢⎡1  0⎤  ⎢ 2        ⎥  ⎡0  1⎤  ⎢ 2        ⎥  ⎢       2  ⎥  ⎢       2  ⎥⎥\n",
       "⎢⎢    ⎥, ⎢          ⎥, ⎢    ⎥, ⎢          ⎥, ⎢          ⎥, ⎢          ⎥⎥\n",
       "⎢⎣0  1⎦  ⎢      -√3 ⎥  ⎣1  0⎦  ⎢       √3 ⎥  ⎢-√3       ⎥  ⎢ √3       ⎥⎥\n",
       "⎢        ⎢-1/2  ────⎥          ⎢-1/2   ── ⎥  ⎢────  -1/2⎥  ⎢ ──   -1/2⎥⎥\n",
       "⎣        ⎣       2  ⎦          ⎣       2  ⎦  ⎣ 2        ⎦  ⎣ 2        ⎦⎦"
      ]
     },
     "execution_count": 35,
     "metadata": {},
     "output_type": "execute_result"
    }
   ],
   "source": [
    "# Standartinis įvaizdis - pirma forma\n",
    "rep_st_1 = []\n",
    "for i in range(6):\n",
    "    rep_st_1.append(rep_R_bdu[i][2:4,2:4])\n",
    "rep_st_1"
   ]
  },
  {
   "cell_type": "code",
   "execution_count": 36,
   "id": "729eceb1",
   "metadata": {},
   "outputs": [
    {
     "data": {
      "image/png": "[encoded data removed]",
      "text/latex": [
       "$\\displaystyle \\left[ \\left[\\begin{matrix}1 & 0\\\\0 & 1\\end{matrix}\\right], \\  \\left[\\begin{matrix}0 & 1\\\\1 & 0\\end{matrix}\\right], \\  \\left[\\begin{matrix}- \\frac{\\sqrt{3}}{2} & - \\frac{1}{2}\\\\- \\frac{1}{2} & \\frac{\\sqrt{3}}{2}\\end{matrix}\\right], \\  \\left[\\begin{matrix}\\frac{\\sqrt{3}}{2} & - \\frac{1}{2}\\\\- \\frac{1}{2} & - \\frac{\\sqrt{3}}{2}\\end{matrix}\\right], \\  \\left[\\begin{matrix}- \\frac{1}{2} & \\frac{\\sqrt{3}}{2}\\\\- \\frac{\\sqrt{3}}{2} & - \\frac{1}{2}\\end{matrix}\\right], \\  \\left[\\begin{matrix}- \\frac{1}{2} & - \\frac{\\sqrt{3}}{2}\\\\\\frac{\\sqrt{3}}{2} & - \\frac{1}{2}\\end{matrix}\\right]\\right]$"
      ],
      "text/plain": [
       "⎡                ⎡-√3       ⎤  ⎡ √3       ⎤  ⎡       √3 ⎤  ⎡      -√3 ⎤⎤\n",
       "⎢                ⎢────  -1/2⎥  ⎢ ──   -1/2⎥  ⎢-1/2   ── ⎥  ⎢-1/2  ────⎥⎥\n",
       "⎢⎡1  0⎤  ⎡0  1⎤  ⎢ 2        ⎥  ⎢ 2        ⎥  ⎢       2  ⎥  ⎢       2  ⎥⎥\n",
       "⎢⎢    ⎥, ⎢    ⎥, ⎢          ⎥, ⎢          ⎥, ⎢          ⎥, ⎢          ⎥⎥\n",
       "⎢⎣0  1⎦  ⎣1  0⎦  ⎢       √3 ⎥  ⎢      -√3 ⎥  ⎢-√3       ⎥  ⎢ √3       ⎥⎥\n",
       "⎢                ⎢-1/2   ── ⎥  ⎢-1/2  ────⎥  ⎢────  -1/2⎥  ⎢ ──   -1/2⎥⎥\n",
       "⎣                ⎣       2  ⎦  ⎣       2  ⎦  ⎣ 2        ⎦  ⎣ 2        ⎦⎦"
      ]
     },
     "execution_count": 36,
     "metadata": {},
     "output_type": "execute_result"
    }
   ],
   "source": [
    "# Standartinis įvaizdis - antra forma\n",
    "rep_st_2 = []\n",
    "for i in range(6):\n",
    "    rep_st_2.append(rep_R_bdu[i][4:,4:])\n",
    "rep_st_2"
   ]
  },
  {
   "cell_type": "code",
   "execution_count": 37,
   "id": "529c9cf8",
   "metadata": {},
   "outputs": [
    {
     "data": {
      "image/png": "[encoded data removed]",
      "text/latex": [
       "$\\displaystyle \\left[ \\left[ 2, \\  0, \\  0, \\  0, \\  -1, \\  -1\\right], \\  \\left[ 2, \\  0, \\  0, \\  0, \\  -1, \\  -1\\right]\\right]$"
      ],
      "text/plain": [
       "[[2, 0, 0, 0, -1, -1], [2, 0, 0, 0, -1, -1]]"
      ]
     },
     "execution_count": 37,
     "metadata": {},
     "output_type": "execute_result"
    }
   ],
   "source": [
    "# Dvi standartinio įvaizdžios formos yra ekvivalentiškos, nes jų charakteriai sutampa\n",
    "char_st_1 = list(map(trace,rep_st_1))\n",
    "char_st_2 = list(map(trace,rep_st_2))\n",
    "[char_st_1, char_st_2]"
   ]
  },
  {
   "cell_type": "markdown",
   "id": "6a1d1ff4",
   "metadata": {},
   "source": [
    "### Panašumo transformacija"
   ]
  },
  {
   "cell_type": "markdown",
   "id": "2b055561",
   "metadata": {},
   "source": [
    "Šuro lema teigia, kad egzistuoja unikalus, iki skaliarinio daugiklio, matricinis operatorius $F \\in {\\rm Mat}_{2\\times2}(\\mathbb{C})$ toks, kad\n",
    "\n",
    "$\n",
    "\\rho_{\\rm st 1}(p) F = F \\rho_{\\rm st 2}(p)  \n",
    "$\n",
    "\n",
    "visiems $p \\in S_3$.\n",
    "\n",
    "Sąlyga užrašyta viršuje yra ne kas kita, o tiesinių lygčių sistema matricai $F$."
   ]
  },
  {
   "cell_type": "code",
   "execution_count": 38,
   "id": "16a761aa",
   "metadata": {},
   "outputs": [
    {
     "data": {
      "image/png": "[encoded data removed]",
      "text/latex": [
       "$\\displaystyle \\left[\\begin{matrix}f_{0, 0} & f_{0, 1}\\\\f_{1, 0} & f_{1, 1}\\end{matrix}\\right]$"
      ],
      "text/plain": [
       "⎡f₀₀  f₀₁⎤\n",
       "⎢        ⎥\n",
       "⎣f₁₀  f₁₁⎦"
      ]
     },
     "execution_count": 38,
     "metadata": {},
     "output_type": "execute_result"
    }
   ],
   "source": [
    "# Simbolinė matrica F\n",
    "F = sym.MatrixSymbol('f', 2, 2).as_explicit()\n",
    "F"
   ]
  },
  {
   "cell_type": "code",
   "execution_count": 39,
   "id": "5739f925",
   "metadata": {},
   "outputs": [
    {
     "data": {
      "image/png": "[encoded data removed]",
      "text/latex": [
       "$\\displaystyle \\left[ \\left[\\begin{matrix}0 & 0\\\\0 & 0\\end{matrix}\\right], \\  \\left[\\begin{matrix}\\frac{\\sqrt{3} f_{0, 0}}{2} - f_{0, 1} - \\frac{f_{1, 0}}{2} & - f_{0, 0} + \\frac{\\sqrt{3} f_{0, 1}}{2} - \\frac{f_{1, 1}}{2}\\\\- \\frac{f_{0, 0}}{2} - \\frac{\\sqrt{3} f_{1, 0}}{2} - f_{1, 1} & - \\frac{f_{0, 1}}{2} - f_{1, 0} - \\frac{\\sqrt{3} f_{1, 1}}{2}\\end{matrix}\\right], \\  \\left[\\begin{matrix}\\frac{\\sqrt{3} f_{0, 0}}{2} + \\frac{f_{0, 1}}{2} + f_{1, 0} & \\frac{f_{0, 0}}{2} - \\frac{\\sqrt{3} f_{0, 1}}{2} + f_{1, 1}\\\\f_{0, 0} + \\frac{\\sqrt{3} f_{1, 0}}{2} + \\frac{f_{1, 1}}{2} & f_{0, 1} + \\frac{f_{1, 0}}{2} - \\frac{\\sqrt{3} f_{1, 1}}{2}\\end{matrix}\\right], \\  \\left[\\begin{matrix}- \\sqrt{3} f_{0, 0} + \\frac{f_{0, 1}}{2} - \\frac{f_{1, 0}}{2} & \\frac{f_{0, 0}}{2} - \\frac{f_{1, 1}}{2}\\\\- \\frac{f_{0, 0}}{2} + \\frac{f_{1, 1}}{2} & - \\frac{f_{0, 1}}{2} + \\frac{f_{1, 0}}{2} + \\sqrt{3} f_{1, 1}\\end{matrix}\\right], \\  \\left[\\begin{matrix}\\frac{\\sqrt{3} f_{0, 1}}{2} + \\frac{\\sqrt{3} f_{1, 0}}{2} & - \\frac{\\sqrt{3} f_{0, 0}}{2} + \\frac{\\sqrt{3} f_{1, 1}}{2}\\\\- \\frac{\\sqrt{3} f_{0, 0}}{2} + \\frac{\\sqrt{3} f_{1, 1}}{2} & - \\frac{\\sqrt{3} f_{0, 1}}{2} - \\frac{\\sqrt{3} f_{1, 0}}{2}\\end{matrix}\\right], \\  \\left[\\begin{matrix}- \\frac{\\sqrt{3} f_{0, 1}}{2} - \\frac{\\sqrt{3} f_{1, 0}}{2} & \\frac{\\sqrt{3} f_{0, 0}}{2} - \\frac{\\sqrt{3} f_{1, 1}}{2}\\\\\\frac{\\sqrt{3} f_{0, 0}}{2} - \\frac{\\sqrt{3} f_{1, 1}}{2} & \\frac{\\sqrt{3} f_{0, 1}}{2} + \\frac{\\sqrt{3} f_{1, 0}}{2}\\end{matrix}\\right]\\right]$"
      ],
      "text/plain": [
       "⎡        ⎡ √3⋅f₀₀         f₁₀          √3⋅f₀₁   f₁₁ ⎤  ⎡√3⋅f₀₀   f₀₁        f₀\n",
       "⎢        ⎢ ────── - f₀₁ - ───   -f₀₀ + ────── - ─── ⎥  ⎢────── + ─── + f₁₀  ──\n",
       "⎢⎡0  0⎤  ⎢   2             2             2       2  ⎥  ⎢  2       2          2\n",
       "⎢⎢    ⎥, ⎢                                          ⎥, ⎢                      \n",
       "⎢⎣0  0⎦  ⎢  f₀₀   √3⋅f₁₀          f₀₁         √3⋅f₁₁⎥  ⎢      √3⋅f₁₀   f₁₁    \n",
       "⎢        ⎢- ─── - ────── - f₁₁  - ─── - f₁₀ - ──────⎥  ⎢f₀₀ + ────── + ───  f₀\n",
       "⎣        ⎣   2      2              2            2   ⎦  ⎣        2       2     \n",
       "\n",
       "₀   √3⋅f₀₁      ⎤  ⎡          f₀₁   f₁₀       f₀₀   f₁₁      ⎤  ⎡ √3⋅f₀₁   √3⋅\n",
       "─ - ────── + f₁₁⎥  ⎢-√3⋅f₀₀ + ─── - ───       ─── - ───      ⎥  ⎢ ────── + ───\n",
       "      2         ⎥  ⎢           2     2         2     2       ⎥  ⎢   2        2\n",
       "                ⎥, ⎢                                         ⎥, ⎢             \n",
       "    f₁₀   √3⋅f₁₁⎥  ⎢      f₀₀   f₁₁        f₀₁   f₁₀         ⎥  ⎢  √3⋅f₀₀   √3\n",
       "₁ + ─── - ──────⎥  ⎢    - ─── + ───      - ─── + ─── + √3⋅f₁₁⎥  ⎢- ────── + ──\n",
       "     2      2   ⎦  ⎣       2     2          2     2          ⎦  ⎣    2        \n",
       "\n",
       "f₁₀     √3⋅f₀₀   √3⋅f₁₁⎤  ⎡  √3⋅f₀₁   √3⋅f₁₀  √3⋅f₀₀   √3⋅f₁₁⎤⎤\n",
       "───   - ────── + ──────⎥  ⎢- ────── - ──────  ────── - ──────⎥⎥\n",
       "          2        2   ⎥  ⎢    2        2       2        2   ⎥⎥\n",
       "                       ⎥, ⎢                                  ⎥⎥\n",
       "⋅f₁₁    √3⋅f₀₁   √3⋅f₁₀⎥  ⎢ √3⋅f₀₀   √3⋅f₁₁   √3⋅f₀₁   √3⋅f₁₀⎥⎥\n",
       "────  - ────── - ──────⎥  ⎢ ────── - ──────   ────── + ──────⎥⎥\n",
       "2         2        2   ⎦  ⎣   2        2        2        2   ⎦⎦"
      ]
     },
     "execution_count": 39,
     "metadata": {},
     "output_type": "execute_result"
    }
   ],
   "source": [
    "# Tiesinių lygčių sistema\n",
    "A = []\n",
    "for i in range(6):\n",
    "    A.append(rep_st_1[i] * F - F * rep_st_2[i])\n",
    "A"
   ]
  },
  {
   "cell_type": "code",
   "execution_count": 40,
   "id": "4040c531",
   "metadata": {},
   "outputs": [
    {
     "data": {
      "image/png": "[encoded data removed]",
      "text/latex": [
       "$\\displaystyle \\left[\\begin{matrix}f_{1, 1} & \\sqrt{3} f_{1, 1}\\\\- \\sqrt{3} f_{1, 1} & f_{1, 1}\\end{matrix}\\right]$"
      ],
      "text/plain": [
       "⎡  f₁₁    √3⋅f₁₁⎤\n",
       "⎢               ⎥\n",
       "⎣-√3⋅f₁₁   f₁₁  ⎦"
      ]
     },
     "execution_count": 40,
     "metadata": {},
     "output_type": "execute_result"
    }
   ],
   "source": [
    "# Lygčių sistemos sprendimas ir atsakymo įstatymas į matricą F\n",
    "F.subs(sym.solve(A, F))"
   ]
  },
  {
   "cell_type": "code",
   "execution_count": 41,
   "id": "032c3a05",
   "metadata": {},
   "outputs": [
    {
     "data": {
      "image/png": "[encoded data removed]",
      "text/latex": [
       "$\\displaystyle \\left[\\begin{matrix}1 & \\sqrt{3}\\\\- \\sqrt{3} & 1\\end{matrix}\\right]$"
      ],
      "text/plain": [
       "⎡ 1   √3⎤\n",
       "⎢       ⎥\n",
       "⎣-√3  1 ⎦"
      ]
     },
     "execution_count": 41,
     "metadata": {},
     "output_type": "execute_result"
    }
   ],
   "source": [
    "# Pasirenkame bet kokią ne nulinę f_11 vertę, pavyzdžiui f_11 = 1 \n",
    "C = F.subs(sym.solve(A, F)).subs({F[1,1]:1})\n",
    "C"
   ]
  },
  {
   "cell_type": "code",
   "execution_count": 42,
   "id": "96b7da55",
   "metadata": {},
   "outputs": [
    {
     "data": {
      "text/plain": [
       "True"
      ]
     },
     "execution_count": 42,
     "metadata": {},
     "output_type": "execute_result"
    }
   ],
   "source": [
    "# Patikrinime, kad matrica C yra norima panašumo transformacija\n",
    "rep_st_1_new = []\n",
    "for i in range(6):\n",
    "    rep_st_1_new.append(C.inv() * rep_st_1[i] * C)\n",
    "    \n",
    "rep_st_2 == rep_st_1_new"
   ]
  }
 ],
 "metadata": {
  "kernelspec": {
   "display_name": "Python 3 (ipykernel)",
   "language": "python",
   "name": "python3"
  },
  "language_info": {
   "codemirror_mode": {
    "name": "ipython",
    "version": 3
   },
   "file_extension": ".py",
   "mimetype": "text/x-python",
   "name": "python",
   "nbconvert_exporter": "python",
   "pygments_lexer": "ipython3",
   "version": "3.9.13"
  },
  "latex_envs": {
   "LaTeX_envs_menu_present": true,
   "autoclose": false,
   "autocomplete": true,
   "bibliofile": "biblio.bib",
   "cite_by": "apalike",
   "current_citInitial": 1,
   "eqLabelWithNumbers": true,
   "eqNumInitial": 1,
   "hotkeys": {
    "equation": "Ctrl-E",
    "itemize": "Ctrl-I"
   },
   "labels_anchors": false,
   "latex_user_defs": false,
   "report_style_numbering": false,
   "user_envs_cfg": false
  }
 },
 "nbformat": 4,
 "nbformat_minor": 5
}
